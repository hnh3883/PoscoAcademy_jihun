{
 "cells": [
  {
   "cell_type": "code",
   "execution_count": 73,
   "id": "9334a952",
   "metadata": {},
   "outputs": [],
   "source": [
    "from scipy import stats\n",
    "import pandas as pd\n",
    "import matplotlib.pyplot as plt\n",
    "from statsmodels.stats.proportion import proportions_ztest"
   ]
  },
  {
   "cell_type": "markdown",
   "id": "6d8420c9",
   "metadata": {},
   "source": [
    "### T분포"
   ]
  },
  {
   "cell_type": "code",
   "execution_count": 8,
   "id": "13187d13",
   "metadata": {},
   "outputs": [
    {
     "name": "stdout",
     "output_type": "stream",
     "text": [
      "P(T<=t):0.907\n"
     ]
    }
   ],
   "source": [
    "t = 1.53\n",
    "df = 5  #자유도\n",
    "\n",
    "prob = stats.t.cdf(t,df)\n",
    "print('P(T<=t):{:.3f}'.format(prob))"
   ]
  },
  {
   "cell_type": "code",
   "execution_count": 10,
   "id": "87489844",
   "metadata": {},
   "outputs": [
    {
     "name": "stdout",
     "output_type": "stream",
     "text": [
      "P(T<=t):0.976\n"
     ]
    }
   ],
   "source": [
    "t = 2\n",
    "df = 100  #자유도\n",
    "\n",
    "prob = stats.t.cdf(t,df)\n",
    "print('P(T<=t):{:.3f}'.format(prob))"
   ]
  },
  {
   "cell_type": "markdown",
   "id": "e9770ed1",
   "metadata": {},
   "source": [
    "### X^2 분포"
   ]
  },
  {
   "cell_type": "code",
   "execution_count": 21,
   "id": "c7a97bd5",
   "metadata": {},
   "outputs": [
    {
     "name": "stdout",
     "output_type": "stream",
     "text": [
      "P(X<=10):0.0002\n"
     ]
    }
   ],
   "source": [
    "chisq = 10\n",
    "df = 30\n",
    "\n",
    "prob = stats.chi2.cdf(chisq,df)\n",
    "print('P(X<={0}):{1:.4f}'.format(chisq,prob))"
   ]
  },
  {
   "cell_type": "code",
   "execution_count": 12,
   "id": "b485351e",
   "metadata": {},
   "outputs": [
    {
     "name": "stdout",
     "output_type": "stream",
     "text": [
      "P(X<=3):0.0656\n"
     ]
    }
   ],
   "source": [
    "chisq = 3\n",
    "df = 8\n",
    "\n",
    "prob = stats.chi2.cdf(chisq,df)\n",
    "print('P(X<={0}):{1:.4f}'.format(chisq,prob))"
   ]
  },
  {
   "cell_type": "markdown",
   "id": "06cc5087",
   "metadata": {},
   "source": [
    "### F분포"
   ]
  },
  {
   "cell_type": "code",
   "execution_count": 23,
   "id": "843de0e4",
   "metadata": {},
   "outputs": [
    {
     "name": "stdout",
     "output_type": "stream",
     "text": [
      "P(X<=F):0.904\n"
     ]
    }
   ],
   "source": [
    "f = 2.0\n",
    "dfnum = 15\n",
    "dfden = 15\n",
    "\n",
    "prob = stats.f.cdf(x=f, dfn = dfnum, dfd= dfden )\n",
    "print('P(X<=F):{:.3f}'.format(prob))"
   ]
  },
  {
   "cell_type": "code",
   "execution_count": 24,
   "id": "c9c92e3f",
   "metadata": {},
   "outputs": [
    {
     "name": "stdout",
     "output_type": "stream",
     "text": [
      "P(X<=F):0.850\n"
     ]
    }
   ],
   "source": [
    "f = 1.5\n",
    "dfnum = 10\n",
    "dfden = 100\n",
    "\n",
    "prob = stats.f.cdf(x=f, dfn = dfnum, dfd= dfden )\n",
    "print('P(X<=F):{:.3f}'.format(prob))"
   ]
  },
  {
   "cell_type": "markdown",
   "id": "fefc7fca",
   "metadata": {},
   "source": [
    "### 이항분포"
   ]
  },
  {
   "cell_type": "code",
   "execution_count": 26,
   "id": "ab3e16ae",
   "metadata": {},
   "outputs": [
    {
     "name": "stdout",
     "output_type": "stream",
     "text": [
      "P(X=0) = 0.216\n",
      "P(X=1) = 0.432\n",
      "P(X=2) = 0.288\n",
      "P(X=3) = 0.064\n"
     ]
    }
   ],
   "source": [
    "n = 3 \n",
    "for i in range(n+1):\n",
    "    prob = stats.binom.pmf(k=i, n=n, p=0.4)\n",
    "    print('P(X={0}) = {1:.3f}'.format(i,prob))"
   ]
  },
  {
   "cell_type": "code",
   "execution_count": 30,
   "id": "fc4d5bc2",
   "metadata": {},
   "outputs": [
    {
     "name": "stdout",
     "output_type": "stream",
     "text": [
      "P(X=0) = 0.168\n",
      "P(X=1) = 0.360\n",
      "P(X=2) = 0.309\n",
      "P(X=3) = 0.132\n",
      "P(X=4) = 0.028\n",
      "P(X=5) = 0.002\n"
     ]
    }
   ],
   "source": [
    "n = 5 \n",
    "for i in range(n+1):\n",
    "    prob = stats.binom.pmf(k=i, n=n, p=0.3)\n",
    "    print('P(X={0}) = {1:.3f}'.format(i,prob))"
   ]
  },
  {
   "cell_type": "markdown",
   "id": "cb213d70",
   "metadata": {},
   "source": [
    "### 정규성 검정"
   ]
  },
  {
   "cell_type": "code",
   "execution_count": 35,
   "id": "b7822cac",
   "metadata": {},
   "outputs": [
    {
     "data": {
      "text/html": [
       "<div>\n",
       "<style scoped>\n",
       "    .dataframe tbody tr th:only-of-type {\n",
       "        vertical-align: middle;\n",
       "    }\n",
       "\n",
       "    .dataframe tbody tr th {\n",
       "        vertical-align: top;\n",
       "    }\n",
       "\n",
       "    .dataframe thead th {\n",
       "        text-align: right;\n",
       "    }\n",
       "</style>\n",
       "<table border=\"1\" class=\"dataframe\">\n",
       "  <thead>\n",
       "    <tr style=\"text-align: right;\">\n",
       "      <th></th>\n",
       "      <th>Length</th>\n",
       "      <th>Supp1</th>\n",
       "      <th>Supp2</th>\n",
       "    </tr>\n",
       "  </thead>\n",
       "  <tbody>\n",
       "    <tr>\n",
       "      <th>0</th>\n",
       "      <td>601.4</td>\n",
       "      <td>598.0</td>\n",
       "      <td>601.6</td>\n",
       "    </tr>\n",
       "    <tr>\n",
       "      <th>1</th>\n",
       "      <td>601.6</td>\n",
       "      <td>599.8</td>\n",
       "      <td>600.4</td>\n",
       "    </tr>\n",
       "    <tr>\n",
       "      <th>2</th>\n",
       "      <td>598.0</td>\n",
       "      <td>600.0</td>\n",
       "      <td>598.4</td>\n",
       "    </tr>\n",
       "    <tr>\n",
       "      <th>3</th>\n",
       "      <td>601.4</td>\n",
       "      <td>599.8</td>\n",
       "      <td>600.0</td>\n",
       "    </tr>\n",
       "    <tr>\n",
       "      <th>4</th>\n",
       "      <td>599.4</td>\n",
       "      <td>600.0</td>\n",
       "      <td>596.8</td>\n",
       "    </tr>\n",
       "  </tbody>\n",
       "</table>\n",
       "</div>"
      ],
      "text/plain": [
       "   Length  Supp1  Supp2\n",
       "0   601.4  598.0  601.6\n",
       "1   601.6  599.8  600.4\n",
       "2   598.0  600.0  598.4\n",
       "3   601.4  599.8  600.0\n",
       "4   599.4  600.0  596.8"
      ]
     },
     "execution_count": 35,
     "metadata": {},
     "output_type": "execute_result"
    }
   ],
   "source": [
    "ds_camshaft = pd.read_csv('/home/piai/바탕화면/실습화일/1 Big Data 분석 기초/camshaft.csv')\n",
    "ds_camshaft.head()"
   ]
  },
  {
   "cell_type": "code",
   "execution_count": 36,
   "id": "019cccef",
   "metadata": {},
   "outputs": [
    {
     "data": {
      "text/plain": [
       "ShapiroResult(statistic=0.9788166284561157, pvalue=0.1074606254696846)"
      ]
     },
     "execution_count": 36,
     "metadata": {},
     "output_type": "execute_result"
    }
   ],
   "source": [
    "data1 = ds_camshaft['Supp1']\n",
    "stats.shapiro(data1)"
   ]
  },
  {
   "cell_type": "markdown",
   "id": "b2c50ba7",
   "metadata": {},
   "source": [
    "### 신뢰구간 -모표준편차를 아는 경우"
   ]
  },
  {
   "cell_type": "code",
   "execution_count": 38,
   "id": "778e18b6",
   "metadata": {},
   "outputs": [
    {
     "data": {
      "text/html": [
       "<div>\n",
       "<style scoped>\n",
       "    .dataframe tbody tr th:only-of-type {\n",
       "        vertical-align: middle;\n",
       "    }\n",
       "\n",
       "    .dataframe tbody tr th {\n",
       "        vertical-align: top;\n",
       "    }\n",
       "\n",
       "    .dataframe thead th {\n",
       "        text-align: right;\n",
       "    }\n",
       "</style>\n",
       "<table border=\"1\" class=\"dataframe\">\n",
       "  <thead>\n",
       "    <tr style=\"text-align: right;\">\n",
       "      <th></th>\n",
       "      <th>sample</th>\n",
       "    </tr>\n",
       "  </thead>\n",
       "  <tbody>\n",
       "    <tr>\n",
       "      <th>0</th>\n",
       "      <td>3.6</td>\n",
       "    </tr>\n",
       "    <tr>\n",
       "      <th>1</th>\n",
       "      <td>2.9</td>\n",
       "    </tr>\n",
       "    <tr>\n",
       "      <th>2</th>\n",
       "      <td>2.8</td>\n",
       "    </tr>\n",
       "    <tr>\n",
       "      <th>3</th>\n",
       "      <td>2.6</td>\n",
       "    </tr>\n",
       "    <tr>\n",
       "      <th>4</th>\n",
       "      <td>3.4</td>\n",
       "    </tr>\n",
       "  </tbody>\n",
       "</table>\n",
       "</div>"
      ],
      "text/plain": [
       "   sample\n",
       "0     3.6\n",
       "1     2.9\n",
       "2     2.8\n",
       "3     2.6\n",
       "4     3.4"
      ]
     },
     "execution_count": 38,
     "metadata": {},
     "output_type": "execute_result"
    }
   ],
   "source": [
    "df = pd.DataFrame({\"sample\": [3.6,2.9,2.8,2.6,3.4,3.2,2.2,2.6,2.6,2.4,\n",
    "                             2.4,2.6,3.4,2.4,2.1,2.6,3.0,2.4,2.7,2.4,\n",
    "                             2.6,2.9,2.9,2.0,2.7,2.2,2.8,2.7,1.8,2.5,\n",
    "                             3.0,3.2,2.8,2.6,3.2,3.1,2.9,2.7,2.7,2.2]})\n",
    "df.head()"
   ]
  },
  {
   "cell_type": "code",
   "execution_count": 41,
   "id": "ea93fca2",
   "metadata": {},
   "outputs": [
    {
     "name": "stdout",
     "output_type": "stream",
     "text": [
      "신뢰구간 : ([2.57],[2.82])\n"
     ]
    }
   ],
   "source": [
    "lower,upper = stats.norm.interval(0.95, loc = np.mean(df), scale = 0.397/np.sqrt(40))\n",
    "print(\"신뢰구간 : ({0},{1})\".format(lower.round(2), upper.round(2)))"
   ]
  },
  {
   "cell_type": "markdown",
   "id": "c0a8f06a",
   "metadata": {},
   "source": [
    "### 신뢰구간 - 모표준편차를 모르는 경우"
   ]
  },
  {
   "cell_type": "code",
   "execution_count": 43,
   "id": "2afa4ebb",
   "metadata": {},
   "outputs": [
    {
     "data": {
      "text/html": [
       "<div>\n",
       "<style scoped>\n",
       "    .dataframe tbody tr th:only-of-type {\n",
       "        vertical-align: middle;\n",
       "    }\n",
       "\n",
       "    .dataframe tbody tr th {\n",
       "        vertical-align: top;\n",
       "    }\n",
       "\n",
       "    .dataframe thead th {\n",
       "        text-align: right;\n",
       "    }\n",
       "</style>\n",
       "<table border=\"1\" class=\"dataframe\">\n",
       "  <thead>\n",
       "    <tr style=\"text-align: right;\">\n",
       "      <th></th>\n",
       "      <th>sample</th>\n",
       "    </tr>\n",
       "  </thead>\n",
       "  <tbody>\n",
       "    <tr>\n",
       "      <th>0</th>\n",
       "      <td>54.1</td>\n",
       "    </tr>\n",
       "    <tr>\n",
       "      <th>1</th>\n",
       "      <td>53.3</td>\n",
       "    </tr>\n",
       "    <tr>\n",
       "      <th>2</th>\n",
       "      <td>56.1</td>\n",
       "    </tr>\n",
       "    <tr>\n",
       "      <th>3</th>\n",
       "      <td>55.7</td>\n",
       "    </tr>\n",
       "    <tr>\n",
       "      <th>4</th>\n",
       "      <td>54.0</td>\n",
       "    </tr>\n",
       "  </tbody>\n",
       "</table>\n",
       "</div>"
      ],
      "text/plain": [
       "   sample\n",
       "0    54.1\n",
       "1    53.3\n",
       "2    56.1\n",
       "3    55.7\n",
       "4    54.0"
      ]
     },
     "execution_count": 43,
     "metadata": {},
     "output_type": "execute_result"
    }
   ],
   "source": [
    "df = pd.DataFrame({\"sample\": [54.1,53.3,56.1,55.7,54.0,54.1,54.5,57.1,55.2,53.8,\n",
    "                             54.1,54.1,56.1,55.0,55.9,56.0,54.9,54.3,53.9,55.0]})\n",
    "df.head()"
   ]
  },
  {
   "cell_type": "code",
   "execution_count": 46,
   "id": "b98453c1",
   "metadata": {},
   "outputs": [
    {
     "name": "stdout",
     "output_type": "stream",
     "text": [
      "신뢰구간 : ([54.39],[55.33])\n"
     ]
    }
   ],
   "source": [
    "lower,upper = stats.t.interval(0.95, len(df)-1 ,loc = np.mean(df), scale = stats.sem(df))\n",
    "print(\"신뢰구간 : ({0},{1})\".format(lower.round(2), upper.round(2)))"
   ]
  },
  {
   "cell_type": "markdown",
   "id": "1275f547",
   "metadata": {},
   "source": [
    "### 추론통계"
   ]
  },
  {
   "cell_type": "markdown",
   "id": "747d5c4e",
   "metadata": {},
   "source": [
    "#### 1-sample t-test"
   ]
  },
  {
   "cell_type": "code",
   "execution_count": 47,
   "id": "eef1c52a",
   "metadata": {},
   "outputs": [
    {
     "data": {
      "text/plain": [
       "<Axes: >"
      ]
     },
     "execution_count": 47,
     "metadata": {},
     "output_type": "execute_result"
    },
    {
     "data": {
      "image/png": "[encoded data removed]",
      "text/plain": [
       "<Figure size 640x480 with 1 Axes>"
      ]
     },
     "metadata": {},
     "output_type": "display_data"
    }
   ],
   "source": [
    "df = pd.DataFrame({'sample':[74.5,81.2,73.8,82.0,76.3,75.7,80.2,72.6,77.9,82.8]})\n",
    "df.boxplot(['sample'])"
   ]
  },
  {
   "cell_type": "code",
   "execution_count": 48,
   "id": "d15c73de",
   "metadata": {},
   "outputs": [],
   "source": [
    "t_result = stats.ttest_1samp(df, 76.7)\n",
    "t, p = t_result.statistic.round(3), \\\n",
    "    t_result.pvalue.round(3)"
   ]
  },
  {
   "cell_type": "code",
   "execution_count": 49,
   "id": "f5fd60ef",
   "metadata": {},
   "outputs": [
    {
     "name": "stdout",
     "output_type": "stream",
     "text": [
      "1-Sample t-test\n",
      "t 통계량 : [0.864]\n",
      "p-value : [0.41]\n"
     ]
    }
   ],
   "source": [
    "print('1-Sample t-test')\n",
    "print('t 통계량 : {}'.format(t))\n",
    "print('p-value : {}'.format(p))"
   ]
  },
  {
   "cell_type": "markdown",
   "id": "092be786",
   "metadata": {},
   "source": [
    "#### 2 sample t-test"
   ]
  },
  {
   "cell_type": "code",
   "execution_count": 55,
   "id": "5de6a36e",
   "metadata": {},
   "outputs": [
    {
     "data": {
      "image/png": "[encoded data removed]",
      "text/plain": [
       "<Figure size 640x480 with 1 Axes>"
      ]
     },
     "metadata": {},
     "output_type": "display_data"
    }
   ],
   "source": [
    "df = pd.DataFrame({'A' : [6,5,5,4,6,7,6,4,5,6,4,5,5,6,4,8,6,5,6,7],\n",
    "                 'B' : [7,5,7,8,7,8,8,5,7,6,5,5,6,6,5,7,9,7,7,8]})\n",
    "df.boxplot(['A','B'])\n",
    "plt.show()"
   ]
  },
  {
   "cell_type": "code",
   "execution_count": 57,
   "id": "ea7ee2ef",
   "metadata": {},
   "outputs": [
    {
     "name": "stdout",
     "output_type": "stream",
     "text": [
      "statistic=0.9094840288162231, p-value=0.06230909377336502,\n"
     ]
    }
   ],
   "source": [
    "# A 정규성 검정 \n",
    "statistic, p = stats.shapiro(df['A'])\n",
    "print(\"statistic={}, p-value={},\". format(statistic, p))"
   ]
  },
  {
   "cell_type": "code",
   "execution_count": 58,
   "id": "e9f72c19",
   "metadata": {},
   "outputs": [
    {
     "name": "stdout",
     "output_type": "stream",
     "text": [
      "statistic=0.8978102207183838, p-value=0.03752618283033371,\n"
     ]
    }
   ],
   "source": [
    "# B 정규성 검정\n",
    "statistic, p = stats.shapiro(df['B'])\n",
    "print(\"statistic={}, p-value={},\". format(statistic, p))"
   ]
  },
  {
   "cell_type": "code",
   "execution_count": 60,
   "id": "24e08491",
   "metadata": {},
   "outputs": [
    {
     "data": {
      "text/plain": [
       "BartlettResult(statistic=0.21583926701185108, pvalue=0.642228641630704)"
      ]
     },
     "execution_count": 60,
     "metadata": {},
     "output_type": "execute_result"
    }
   ],
   "source": [
    "# 등분산성 검정\n",
    "stats.bartlett(df['A'], df['B'])"
   ]
  },
  {
   "cell_type": "code",
   "execution_count": 61,
   "id": "496a08dd",
   "metadata": {},
   "outputs": [],
   "source": [
    "# 2-Sample t-test\n",
    "t_result = stats.ttest_ind(df['A'],df['B'])\n",
    "t, p = t_result.statistic.round(3), t_result.pvalue.round(3)"
   ]
  },
  {
   "cell_type": "code",
   "execution_count": 62,
   "id": "bccf4446",
   "metadata": {},
   "outputs": [
    {
     "name": "stdout",
     "output_type": "stream",
     "text": [
      "2-Sample t-test\n",
      "t:-3.122\n",
      "p:0.003\n"
     ]
    }
   ],
   "source": [
    "print(\"2-Sample t-test\")\n",
    "print(\"t:{}\".format(t))\n",
    "print(\"p:{}\".format(p))"
   ]
  },
  {
   "cell_type": "markdown",
   "id": "c08a4eef",
   "metadata": {},
   "source": [
    "#### paired t-test"
   ]
  },
  {
   "cell_type": "code",
   "execution_count": 63,
   "id": "51e3d663",
   "metadata": {},
   "outputs": [],
   "source": [
    "df1 = pd.DataFrame({'before':[720,589,780,648,720,589,780,648,780,648]})\n",
    "df2 = pd.DataFrame({'after':[810,670,790,712,810,670,790,712,790,712]})"
   ]
  },
  {
   "cell_type": "code",
   "execution_count": 64,
   "id": "ae14da50",
   "metadata": {},
   "outputs": [],
   "source": [
    "# t 검정\n",
    "t_result = stats.ttest_rel(df1,df2)"
   ]
  },
  {
   "cell_type": "code",
   "execution_count": 65,
   "id": "a6d83907",
   "metadata": {},
   "outputs": [],
   "source": [
    "t, p = t_result.statistic.round(3), t_result.pvalue.round(3)"
   ]
  },
  {
   "cell_type": "code",
   "execution_count": 67,
   "id": "1395dd3a",
   "metadata": {},
   "outputs": [
    {
     "name": "stdout",
     "output_type": "stream",
     "text": [
      "Paired t-test\n",
      "t:[-5.324]\n",
      "p:[0.]\n"
     ]
    }
   ],
   "source": [
    "print('Paired t-test')\n",
    "print('t:{}'.format(t))\n",
    "print('p:{}'.format(p))"
   ]
  },
  {
   "cell_type": "markdown",
   "id": "17064cd5",
   "metadata": {},
   "source": [
    "#### 1 proportion test"
   ]
  },
  {
   "cell_type": "code",
   "execution_count": 74,
   "id": "b571a311",
   "metadata": {},
   "outputs": [],
   "source": [
    "count = 15\n",
    "n_obs = 100\n",
    "value = 0.1\n",
    "\n",
    "stat, pval = proportions_ztest(count, n_obs, value)"
   ]
  },
  {
   "cell_type": "code",
   "execution_count": 76,
   "id": "999ebfd4",
   "metadata": {},
   "outputs": [
    {
     "name": "stdout",
     "output_type": "stream",
     "text": [
      "1 proportion test\n",
      "z: 1.400\n",
      "p: 0.161\n"
     ]
    }
   ],
   "source": [
    "print('1 proportion test')\n",
    "print('z: {0:0.3f}'.format(stat))\n",
    "print('p: {0:0.3f}'.format(pval))"
   ]
  },
  {
   "cell_type": "markdown",
   "id": "954b3540",
   "metadata": {},
   "source": [
    "#### 2 proportion test"
   ]
  },
  {
   "cell_type": "code",
   "execution_count": 81,
   "id": "eb6bc03d",
   "metadata": {},
   "outputs": [],
   "source": [
    "count = np.array([4,1])\n",
    "nobs = np.array([1000,1200])\n",
    "\n",
    "stat, pval = proportions_ztest(count, nobs)"
   ]
  },
  {
   "cell_type": "code",
   "execution_count": 82,
   "id": "b1732c26",
   "metadata": {},
   "outputs": [
    {
     "name": "stdout",
     "output_type": "stream",
     "text": [
      "2 proportion test\n",
      "z: 1.553\n",
      "p: 0.120\n"
     ]
    }
   ],
   "source": [
    "print('2 proportion test')\n",
    "print('z: {0:0.3f}'.format(stat))\n",
    "print('p: {0:0.3f}'.format(pval))"
   ]
  },
  {
   "cell_type": "markdown",
   "id": "45531ee9",
   "metadata": {},
   "source": [
    "#### 카이제곱 검정"
   ]
  },
  {
   "cell_type": "code",
   "execution_count": 86,
   "id": "ee3193b2",
   "metadata": {},
   "outputs": [
    {
     "name": "stdout",
     "output_type": "stream",
     "text": [
      "chi-square test\n",
      "chisq: 13.366\n",
      "p: 0.038\n",
      "degree pf freedom: 6\n",
      "expected value: \n",
      "[[258.3 276.3 230.7 234.7]\n",
      " [258.3 276.3 230.7 234.7]\n",
      " [258.3 276.3 230.7 234.7]]\n"
     ]
    }
   ],
   "source": [
    "df = pd.DataFrame({'Work_1': [270,228,277], 'Work_2': [260,285,284],\n",
    "                  'Work_3': [236,225,231], 'Work_4': [234,262,208]})\n",
    "\n",
    "chi, pval, dof, expected = stats.chi2_contingency(df)\n",
    "\n",
    "print('chi-square test')\n",
    "print('chisq: {0:0.3f}'.format(chi))\n",
    "print('p: {0:0.3f}'.format(pval))\n",
    "print('degree pf freedom: {}'.format(dof))\n",
    "print('expected value: \\n{}'.format(expected.round(1)))"
   ]
  },
  {
   "cell_type": "markdown",
   "id": "5719f56d",
   "metadata": {},
   "source": [
    "#### ANOVA"
   ]
  },
  {
   "cell_type": "code",
   "execution_count": 89,
   "id": "75daeaef",
   "metadata": {},
   "outputs": [
    {
     "data": {
      "image/png": "[encoded data removed]",
      "text/plain": [
       "<Figure size 640x480 with 1 Axes>"
      ]
     },
     "metadata": {},
     "output_type": "display_data"
    }
   ],
   "source": [
    "df = pd.DataFrame({'A':[892,623,721,678,723,790,720,670,690,771],\n",
    "                  'B':[721,821,910,678,723,790,711,790,745,891],\n",
    "                  'C':[621,915,888,721,894,834,841,912,845,889]})\n",
    "df.boxplot(['A','B','C'])\n",
    "plt.show()"
   ]
  },
  {
   "cell_type": "code",
   "execution_count": 91,
   "id": "2bef57e4",
   "metadata": {},
   "outputs": [],
   "source": [
    "# ANOVA 실행\n",
    "f_result = stats.f_oneway(df['A'],df['B'],df['C'])\n",
    "\n",
    "f, p = f_result.statistic.round(3),f_result.pvalue.round(3)"
   ]
  },
  {
   "cell_type": "code",
   "execution_count": 92,
   "id": "bd872f6b",
   "metadata": {},
   "outputs": [
    {
     "name": "stdout",
     "output_type": "stream",
     "text": [
      "One-way\n",
      "F 통계량 : 4.263\n",
      "p-value : 0.025\n"
     ]
    }
   ],
   "source": [
    "print(\"One-way\")\n",
    "print(\"F 통계량 : {}\".format(f))\n",
    "print(\"p-value : {}\".format(p))"
   ]
  },
  {
   "cell_type": "markdown",
   "id": "870a1721",
   "metadata": {},
   "source": [
    "#### 상관분석"
   ]
  },
  {
   "cell_type": "code",
   "execution_count": 94,
   "id": "7390f29a",
   "metadata": {},
   "outputs": [
    {
     "name": "stdout",
     "output_type": "stream",
     "text": [
      "Correlation Analysis\n",
      "corr:0.989\n",
      "p-value:0.000\n"
     ]
    }
   ],
   "source": [
    "df1 = [1,2,3,4,4,5,6,6,7,8]\n",
    "df2 = [23,29,49,64,74,87,96,97,109,119]\n",
    "\n",
    "corr, pval = stats.pearsonr(df1, df2)\n",
    "\n",
    "print('Correlation Analysis')\n",
    "print('corr:{0:0.3f}'.format(corr))\n",
    "print('p-value:{0:0.3f}'.format(pval))"
   ]
  },
  {
   "cell_type": "code",
   "execution_count": null,
   "id": "51367596",
   "metadata": {},
   "outputs": [],
   "source": []
  }
 ],
 "metadata": {
  "kernelspec": {
   "display_name": "Python 3 (ipykernel)",
   "language": "python",
   "name": "python3"
  },
  "language_info": {
   "codemirror_mode": {
    "name": "ipython",
    "version": 3
   },
   "file_extension": ".py",
   "mimetype": "text/x-python",
   "name": "python",
   "nbconvert_exporter": "python",
   "pygments_lexer": "ipython3",
   "version": "3.10.9"
  }
 },
 "nbformat": 4,
 "nbformat_minor": 5
}
