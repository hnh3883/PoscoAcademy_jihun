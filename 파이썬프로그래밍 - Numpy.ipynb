{
 "cells": [
  {
   "cell_type": "markdown",
   "id": "d810af2f",
   "metadata": {},
   "source": [
    "### numpy 실습"
   ]
  },
  {
   "cell_type": "code",
   "execution_count": 3,
   "id": "a0f95c04",
   "metadata": {},
   "outputs": [
    {
     "data": {
      "text/plain": [
       "'1.23.5'"
      ]
     },
     "execution_count": 3,
     "metadata": {},
     "output_type": "execute_result"
    }
   ],
   "source": [
    "import numpy as np\n",
    "np.__version__"
   ]
  },
  {
   "cell_type": "code",
   "execution_count": 6,
   "id": "387067aa",
   "metadata": {},
   "outputs": [],
   "source": [
    "a = np.array([[1,2,3],[4,5,6]])"
   ]
  },
  {
   "cell_type": "code",
   "execution_count": 14,
   "id": "f2563131",
   "metadata": {},
   "outputs": [
    {
     "name": "stdout",
     "output_type": "stream",
     "text": [
      "[[1 2 3]\n",
      " [4 5 6]]\n",
      "2\n",
      "(2, 3)\n",
      "6\n",
      "int64\n",
      "8\n",
      "<memory at 0x7f8da4176e90>\n"
     ]
    }
   ],
   "source": [
    "print(a)\n",
    "print(a.ndim)\n",
    "print(a.shape)\n",
    "print(a.size)\n",
    "print(a.dtype)\n",
    "print(a.itemsize)\n",
    "print(a.data)"
   ]
  },
  {
   "cell_type": "code",
   "execution_count": 28,
   "id": "0ec91488",
   "metadata": {},
   "outputs": [
    {
     "name": "stdout",
     "output_type": "stream",
     "text": [
      "[2 3 4]\n",
      "int64\n",
      "float64\n",
      "[[4.9e-324 9.9e-324]\n",
      " [1.5e-323 2.0e-323]]\n",
      "[[1.+0.j 2.+0.j]\n",
      " [3.+0.j 4.+0.j]]\n",
      "complex128\n"
     ]
    }
   ],
   "source": [
    "a = np.array([2,3,4])\n",
    "print(a)\n",
    "print(a.dtype)\n",
    "\n",
    "b = np.array([1.2, 3.5, 5.1])\n",
    "print(b.dtype)\n",
    "\n",
    "c = np.ndarray((2,2)) # ndarray는 랜덤한 값이 들어감\n",
    "print(c)\n",
    "\n",
    "d = np.array([[1,2],[3,4]], dtype = complex) #complex 타입은 복소수 형태\n",
    "print(d)\n",
    "print(d.dtype)\n"
   ]
  },
  {
   "cell_type": "code",
   "execution_count": 32,
   "id": "c0be7862",
   "metadata": {},
   "outputs": [
    {
     "name": "stdout",
     "output_type": "stream",
     "text": [
      "[[0. 0. 0. 0.]\n",
      " [0. 0. 0. 0.]\n",
      " [0. 0. 0. 0.]]\n"
     ]
    }
   ],
   "source": [
    "print(np.zeros((3,4)))"
   ]
  },
  {
   "cell_type": "code",
   "execution_count": 35,
   "id": "6e78c347",
   "metadata": {},
   "outputs": [
    {
     "name": "stdout",
     "output_type": "stream",
     "text": [
      "[[[1 1 1 1]\n",
      "  [1 1 1 1]\n",
      "  [1 1 1 1]]\n",
      "\n",
      " [[1 1 1 1]\n",
      "  [1 1 1 1]\n",
      "  [1 1 1 1]]]\n"
     ]
    }
   ],
   "source": [
    "print(np.ones((2,3,4), dtype=np.int16)) #2*3*4의 3차원 배열"
   ]
  },
  {
   "cell_type": "code",
   "execution_count": 43,
   "id": "335f2553",
   "metadata": {},
   "outputs": [
    {
     "name": "stdout",
     "output_type": "stream",
     "text": [
      "[10 15 20 25]\n",
      "[0.  0.3 0.6 0.9 1.2 1.5 1.8]\n",
      "[0.   0.25 0.5  0.75 1.   1.25 1.5  1.75 2.  ]\n"
     ]
    }
   ],
   "source": [
    "a = np.arange(10, 30, 5)\n",
    "print(a)\n",
    "\n",
    "b = np.arange(0, 2, 0.3) # 0부터 2까지 0.3씩 증가 \n",
    "print(b) \n",
    "\n",
    "c = np.linspace(0,2,9) # 일정 간격을 띄우고 출력\n",
    "print(c)"
   ]
  },
  {
   "cell_type": "code",
   "execution_count": 141,
   "id": "9bf8b287",
   "metadata": {},
   "outputs": [
    {
     "name": "stdout",
     "output_type": "stream",
     "text": [
      "[   0    1    2 ... 9997 9998 9999]\n",
      "[[   0    1    2 ...   97   98   99]\n",
      " [ 100  101  102 ...  197  198  199]\n",
      " [ 200  201  202 ...  297  298  299]\n",
      " ...\n",
      " [9700 9701 9702 ... 9797 9798 9799]\n",
      " [9800 9801 9802 ... 9897 9898 9899]\n",
      " [9900 9901 9902 ... 9997 9998 9999]]\n"
     ]
    }
   ],
   "source": [
    "import sys\n",
    "\n",
    "a = np.arange(10000)\n",
    "print(a)\n",
    "\n",
    "b = np.arange(10000).reshape(100, 100) # 100*100 행렬로 생성\n",
    "print(b)\n",
    "\n",
    "np.set_printoptions(threshold = sys.maxsize) # threshold는 해당 값을 넘으면 생략함"
   ]
  },
  {
   "cell_type": "code",
   "execution_count": 72,
   "id": "a38cb8c2",
   "metadata": {},
   "outputs": [
    {
     "name": "stdout",
     "output_type": "stream",
     "text": [
      "[100 101 102 103 104 105 106 107 108 109]\n",
      "108\n",
      "[[100 101 102 103 104]\n",
      " [105 106 107 108 109]]\n",
      "108\n",
      "[100 101 102 103 104]\n",
      "103\n"
     ]
    }
   ],
   "source": [
    "x = np.arange(100, 110)\n",
    "print(x)\n",
    "\n",
    "print(x[-2])\n",
    "\n",
    "x.resize(2,5) # 2*5 형태로 재배치\n",
    "print(x)\n",
    "\n",
    "print(x[1,3]) # 1번째 행, 3번째 열의 원소 출력\n",
    "\n",
    "print(x[0]) # 0번째 행 전부 다 출력\n",
    "print(x[0][3]) # 0번째 행에서의 3번째 열 원소 출력"
   ]
  },
  {
   "cell_type": "code",
   "execution_count": 76,
   "id": "e3a540ac",
   "metadata": {},
   "outputs": [
    {
     "name": "stdout",
     "output_type": "stream",
     "text": [
      "[[1 2 3]\n",
      " [4 5 6]\n",
      " [7 8 9]]\n",
      "[1 6 7 2]\n",
      "[1 9 1 5]\n"
     ]
    }
   ],
   "source": [
    "a = np.array([[1,2,3],[4,5,6],[7,8,9]])\n",
    "print(a)\n",
    "\n",
    "print(a[[0,1,2,0],[0,2,0,1]])\n",
    "#a[0,0] => 1\n",
    "#a[1,2] => 6\n",
    "#a[2,0] => 7\n",
    "#a[0,1] => 2\n",
    "\n",
    "b = np.array([0,2,0,1])\n",
    "print(a[b,b])\n",
    "#a[0,0] => 1\n",
    "#a[2,2] => 9\n",
    "#a[0,0] => 1\n",
    "#a[1,1] => 5\n"
   ]
  },
  {
   "cell_type": "code",
   "execution_count": 86,
   "id": "4896b42a",
   "metadata": {},
   "outputs": [
    {
     "name": "stdout",
     "output_type": "stream",
     "text": [
      "[0 1 2 3 4 5 6 7 8 9]\n",
      "[2 3 4]\n",
      "[0 1 2]\n",
      "[1 3 5]\n",
      "[[ 0  1  2  3  4  5  6]\n",
      " [ 7  8  9 10 11 12 13]\n",
      " [14 15 16 17 18 19 20]\n",
      " [21 22 23 24 25 26 27]\n",
      " [28 29 30 31 32 33 34]]\n",
      "[[ 7  8  9 10 11 12 13]\n",
      " [21 22 23 24 25 26 27]]\n",
      "[[ 7 10 13]\n",
      " [21 24 27]]\n"
     ]
    }
   ],
   "source": [
    "x = np.arange(10)\n",
    "print(x)\n",
    "\n",
    "print(x[2:5]) # [시작점:도착점:step] [2:5] => 2에서 5까지 (step은 지정안하면 1이됨)\n",
    "\n",
    "print(x[:-7]) #x[3]\n",
    "\n",
    "print(x[1:7:2])\n",
    "\n",
    "y = np.arange(35).reshape(5,7)\n",
    "print(y)\n",
    "\n",
    "\n",
    "print(y[1:5:2])\n",
    "print(y[1:5:2, ::3])"
   ]
  },
  {
   "cell_type": "code",
   "execution_count": 92,
   "id": "da7b7b53",
   "metadata": {},
   "outputs": [
    {
     "name": "stdout",
     "output_type": "stream",
     "text": [
      "[[0 1 2]\n",
      " [3 4 5]]\n",
      "[[False False False]\n",
      " [ True  True  True]]\n",
      "[3 4 5]\n",
      "[3 4 5]\n"
     ]
    }
   ],
   "source": [
    "a = np.array(range(6)).reshape(2,3)\n",
    "print(a)\n",
    "\n",
    "bool_idx = a > 2  # a>2 크면 true로 저장, 아니면 false로 저장\n",
    "print(bool_idx)\n",
    "\n",
    "print(a[bool_idx]) # true인 값만 가져옴\n",
    "\n",
    "print(a[a>2]) # 위와 같은 결과 나옴\n"
   ]
  },
  {
   "cell_type": "code",
   "execution_count": 103,
   "id": "e94a7104",
   "metadata": {},
   "outputs": [
    {
     "name": "stdout",
     "output_type": "stream",
     "text": [
      "[[ 1  2  3  4]\n",
      " [ 5  6  7  8]\n",
      " [ 9 10 11 12]]\n",
      "[[1 2 3 4]\n",
      " [5 6 7 8]]\n",
      "[[ 2  3]\n",
      " [ 6  7]\n",
      " [10 11]]\n",
      "[[-1  2  3  4]\n",
      " [ 5  6  7  8]]\n",
      "[[-1  2  3  4]\n",
      " [ 5  6  7  8]\n",
      " [ 9 10 11 12]]\n"
     ]
    }
   ],
   "source": [
    "a = np.array([[1,2,3,4],[5,6,7,8],[9,10,11,12]])\n",
    "print(a)\n",
    "\n",
    "b = a[:2] # 얕은 복사가 일어남\n",
    "print(b)\n",
    "\n",
    "c = a[:,1:3] # 모든 행, 그리고 열은 1부터 3 전까지 \n",
    "print(c)\n",
    "\n",
    "b[0,0] = -1  # 위에서 얕은 복사때문에, a 값도 변경됨\n",
    "print(b)\n",
    "print(a)\n",
    "\n",
    "b = np.copy(a[:2]) # 깊은 복사\n"
   ]
  },
  {
   "cell_type": "code",
   "execution_count": 121,
   "id": "dadb9a73",
   "metadata": {},
   "outputs": [
    {
     "name": "stdout",
     "output_type": "stream",
     "text": [
      "[[7. 9. 1. 9.]\n",
      " [7. 0. 8. 5.]\n",
      " [8. 0. 8. 8.]]\n",
      "(3, 4)\n",
      "[7. 9. 1. 9. 7. 0. 8. 5. 8. 0. 8. 8.]\n",
      "[[7. 9. 1. 9.]\n",
      " [7. 0. 8. 5.]\n",
      " [8. 0. 8. 8.]]\n",
      "[[7. 9.]\n",
      " [1. 9.]\n",
      " [7. 0.]\n",
      " [8. 5.]\n",
      " [8. 0.]\n",
      " [8. 8.]]\n",
      "[[7. 9. 1. 9.]\n",
      " [7. 0. 8. 5.]\n",
      " [8. 0. 8. 8.]]\n",
      "[[7. 9.]\n",
      " [1. 9.]\n",
      " [7. 0.]\n",
      " [8. 5.]\n",
      " [8. 0.]\n",
      " [8. 8.]]\n",
      "[[7. 1. 7. 8. 8. 8.]\n",
      " [9. 9. 0. 5. 0. 8.]]\n"
     ]
    }
   ],
   "source": [
    "a = np.floor( 10* np.random.random((3,4))) # random 함수는 0~1사이의 random 값을 만들기 때문에 곱해서 사용\n",
    "print(a)\n",
    "\n",
    "print(a.shape)\n",
    "print(a.ravel()) # 모든 함수들을 납작하게 1차원 배열로 바꿔서 표현해줌 (a 행렬 자체가 변하지는 않음)\n",
    "print(a)\n",
    "\n",
    "print(a.reshape(6,2)) # 6*2형태로 변경 (resize와 비슷한 함수) (a 행렬 자체가 변하지는 않음)\n",
    "print(a)\n",
    "a.resize((6,2)) # resize는 아예 a 행렬을 바꿔버림\n",
    "print(a) \n",
    "\n",
    "print(a.T) # 전치 행렬"
   ]
  },
  {
   "cell_type": "code",
   "execution_count": 127,
   "id": "8a8150ed",
   "metadata": {},
   "outputs": [
    {
     "name": "stdout",
     "output_type": "stream",
     "text": [
      "[[6. 3. 0. 3.]\n",
      " [0. 2. 8. 3.]\n",
      " [7. 4. 0. 6.]]\n",
      "[[6. 3.]\n",
      " [0. 3.]\n",
      " [0. 2.]\n",
      " [8. 3.]\n",
      " [7. 4.]\n",
      " [0. 6.]]\n"
     ]
    }
   ],
   "source": [
    "a = np.floor( 10* np.random.random((3,4))) # random 함수는 0~1사이의 random 값을 만들기 때문에 곱해서 사용\n",
    "print(a)\n",
    "\n",
    "print(a.reshape((6,-1)))  # 앞에만 shape의 크기를 정해주고, 뒤에 -1을 넣으면 알아서 맞게 변경해줌\n"
   ]
  },
  {
   "cell_type": "code",
   "execution_count": 133,
   "id": "9a46eb76",
   "metadata": {},
   "outputs": [
    {
     "name": "stdout",
     "output_type": "stream",
     "text": [
      "[[8. 9.]\n",
      " [8. 4.]]\n",
      "\n",
      "[[4. 3.]\n",
      " [4. 2.]]\n",
      "\n",
      "[[8. 9.]\n",
      " [8. 4.]\n",
      " [4. 3.]\n",
      " [4. 2.]]\n",
      "\n",
      "[[8. 9. 4. 3.]\n",
      " [8. 4. 4. 2.]]\n"
     ]
    }
   ],
   "source": [
    "a = np.floor(10 * np.random.random((2,2)))\n",
    "b = np.floor(10 * np.random.random((2,2)))\n",
    "\n",
    "print(a)\n",
    "print()\n",
    "print(b)\n",
    "print()\n",
    "print(np.vstack((a,b))) # 수직으로 합치기\n",
    "print()\n",
    "print(np.hstack((a,b))) # 수평으로 합치기\n"
   ]
  },
  {
   "cell_type": "code",
   "execution_count": 137,
   "id": "8c9c6696",
   "metadata": {},
   "outputs": [
    {
     "name": "stdout",
     "output_type": "stream",
     "text": [
      "[[1. 0. 4. 2. 9. 7.]\n",
      " [2. 1. 0. 2. 1. 5.]]\n",
      "[array([[1., 0.],\n",
      "       [2., 1.]]), array([[4., 2.],\n",
      "       [0., 2.]]), array([[9., 7.],\n",
      "       [1., 5.]])]\n"
     ]
    }
   ],
   "source": [
    "a = np.floor(10 * np.random.random(12)).reshape(2,6)\n",
    "print(a)\n",
    "\n",
    "print(np.hsplit(a, 3)) # 수평으로 나눠버림"
   ]
  },
  {
   "cell_type": "code",
   "execution_count": 140,
   "id": "bafdd64a",
   "metadata": {},
   "outputs": [
    {
     "name": "stdout",
     "output_type": "stream",
     "text": [
      "[[9. 7. 3. 1. 9. 1.]\n",
      " [9. 5. 8. 7. 2. 8.]]\n",
      "[array([[9., 7., 3., 1., 9., 1.]]), array([[9., 5., 8., 7., 2., 8.]])]\n"
     ]
    }
   ],
   "source": [
    "a = np.floor(10 * np.random.random(12)).reshape(2,6)\n",
    "print(a)\n",
    "\n",
    "print(np.vsplit(a, 2)) # 수직으로 나눠버림"
   ]
  },
  {
   "cell_type": "markdown",
   "id": "d1a5da6a",
   "metadata": {},
   "source": [
    "### 실습 문제1"
   ]
  },
  {
   "cell_type": "code",
   "execution_count": 153,
   "id": "bccffbbc",
   "metadata": {},
   "outputs": [
    {
     "name": "stdout",
     "output_type": "stream",
     "text": [
      "[[0. 0. 0. 0. 0.]\n",
      " [0. 1. 1. 1. 0.]\n",
      " [0. 1. 1. 1. 0.]\n",
      " [0. 1. 1. 1. 0.]\n",
      " [0. 0. 0. 0. 0.]]\n",
      "\n",
      "[[1. 1. 1. 1. 1.]\n",
      " [1. 0. 0. 0. 1.]\n",
      " [1. 0. 0. 0. 1.]\n",
      " [1. 0. 0. 0. 1.]\n",
      " [1. 1. 1. 1. 1.]]\n"
     ]
    }
   ],
   "source": [
    "a = np.zeros((5,5))\n",
    "a[1:4,1:4] = 1\n",
    "\n",
    "b = np.ones((5,5))\n",
    "b[1:4,1:4] = 0\n",
    "\n",
    "print(a)\n",
    "print()\n",
    "print(b)"
   ]
  },
  {
   "cell_type": "code",
   "execution_count": 176,
   "id": "db5e2eca",
   "metadata": {},
   "outputs": [
    {
     "name": "stdout",
     "output_type": "stream",
     "text": [
      "[[0. 0. 0.]\n",
      " [0. 0. 0.]\n",
      " [0. 0. 0.]]\n",
      "\n",
      "[[1. 1. 1. 1. 1.]\n",
      " [1. 0. 0. 0. 1.]\n",
      " [1. 0. 0. 0. 1.]\n",
      " [1. 0. 0. 0. 1.]\n",
      " [1. 1. 1. 1. 1.]]\n"
     ]
    }
   ],
   "source": [
    "x = np.zeros((3,3))\n",
    "print(x)\n",
    "print()\n",
    "\n",
    "x = np.pad(x, pad_width = 1, mode = 'constant' , constant_values = 1)\n",
    "print(x)"
   ]
  },
  {
   "cell_type": "markdown",
   "id": "b030433c",
   "metadata": {},
   "source": [
    "### 실습 문제 2\n"
   ]
  },
  {
   "cell_type": "code",
   "execution_count": 161,
   "id": "556b4387",
   "metadata": {},
   "outputs": [
    {
     "name": "stdout",
     "output_type": "stream",
     "text": [
      "[[0. 1. 0. 1. 0. 1. 0. 1.]\n",
      " [1. 0. 1. 0. 1. 0. 1. 0.]\n",
      " [0. 1. 0. 1. 0. 1. 0. 1.]\n",
      " [1. 0. 1. 0. 1. 0. 1. 0.]\n",
      " [0. 1. 0. 1. 0. 1. 0. 1.]\n",
      " [1. 0. 1. 0. 1. 0. 1. 0.]\n",
      " [0. 1. 0. 1. 0. 1. 0. 1.]\n",
      " [1. 0. 1. 0. 1. 0. 1. 0.]]\n"
     ]
    }
   ],
   "source": [
    "a = np.zeros((8,8))\n",
    "a[0:7:2, 1::2] = 1\n",
    "a[1:8:2, ::2] = 1\n",
    "\n",
    "print(a)\n"
   ]
  },
  {
   "cell_type": "code",
   "execution_count": 192,
   "id": "e7dc2a1f",
   "metadata": {},
   "outputs": [
    {
     "name": "stdout",
     "output_type": "stream",
     "text": [
      "[[1. 0. 1. 0. 1. 0. 1. 0.]\n",
      " [0. 1. 0. 1. 0. 1. 0. 1.]\n",
      " [1. 0. 1. 0. 1. 0. 1. 0.]\n",
      " [0. 1. 0. 1. 0. 1. 0. 1.]\n",
      " [1. 0. 1. 0. 1. 0. 1. 0.]\n",
      " [0. 1. 0. 1. 0. 1. 0. 1.]\n",
      " [1. 0. 1. 0. 1. 0. 1. 0.]\n",
      " [0. 1. 0. 1. 0. 1. 0. 1.]]\n"
     ]
    }
   ],
   "source": [
    "a = np.zeros((8,8))\n",
    "a[1::2, 1::2] = 1\n",
    "a[::2, ::2] = 1\n",
    "\n",
    "print(a)"
   ]
  },
  {
   "cell_type": "markdown",
   "id": "9d716eef",
   "metadata": {},
   "source": [
    "### 실습 문제 3"
   ]
  },
  {
   "cell_type": "code",
   "execution_count": 195,
   "id": "5c474691",
   "metadata": {},
   "outputs": [
    {
     "name": "stdout",
     "output_type": "stream",
     "text": [
      "[180  72 172  66 162  60 167  53 176  80 155  60 177  77 130  40]\n",
      "[[[180  72]\n",
      "  [172  66]\n",
      "  [162  60]\n",
      "  [167  53]]\n",
      "\n",
      " [[176  80]\n",
      "  [155  60]\n",
      "  [177  77]\n",
      "  [130  40]]]\n",
      "72\n"
     ]
    }
   ],
   "source": [
    "a = np.array([180,72,172,66,162,60,167,53,176,80,155,60,177,77,130,40])\n",
    "print(a)\n",
    "\n",
    "a.resize((2,4,2))\n",
    "\n",
    "print(a)\n",
    "print(a[0,0,1])"
   ]
  },
  {
   "cell_type": "markdown",
   "id": "e012e57c",
   "metadata": {},
   "source": [
    "### Basic Operations (기본 연산자)"
   ]
  },
  {
   "cell_type": "code",
   "execution_count": 206,
   "id": "9f6f52dd",
   "metadata": {},
   "outputs": [
    {
     "name": "stdout",
     "output_type": "stream",
     "text": [
      "[[1 2]\n",
      " [3 4]]\n",
      "[[5 6]\n",
      " [7 8]]\n",
      "[[ 6  8]\n",
      " [10 12]]\n",
      "[[-4 -4]\n",
      " [-4 -4]]\n",
      "[[ 5 12]\n",
      " [21 32]]\n",
      "[[0.2        0.33333333]\n",
      " [0.42857143 0.5       ]]\n",
      "[[19 22]\n",
      " [43 50]]\n"
     ]
    }
   ],
   "source": [
    "x = np.array([[1,2],\n",
    "               [3,4]])\n",
    "y = np.array([[5,6],\n",
    "               [7,8]])\n",
    "\n",
    "print(x)\n",
    "print(y)\n",
    "\n",
    "print(x+y)\n",
    "print(x-y)\n",
    "print(x*y)\n",
    "print(x/y)\n",
    "\n",
    "print (x@y)  # 행렬곱"
   ]
  },
  {
   "cell_type": "code",
   "execution_count": 207,
   "id": "9b0602b1",
   "metadata": {},
   "outputs": [
    {
     "name": "stdout",
     "output_type": "stream",
     "text": [
      "[20 30 40 50]\n",
      "[ 0.91294525 -0.98803162  0.74511316 -0.26237485]\n"
     ]
    }
   ],
   "source": [
    "a = np.array([20,30,40,50])\n",
    "print(a)\n",
    "\n",
    "print(np.sin(a))\n",
    "\n"
   ]
  },
  {
   "cell_type": "code",
   "execution_count": 212,
   "id": "f3787ef6",
   "metadata": {},
   "outputs": [
    {
     "name": "stdout",
     "output_type": "stream",
     "text": [
      "[[0.95251714 0.82346358 0.37760022]\n",
      " [0.87835624 0.12339683 0.34469358]]\n",
      "3.500027584421052\n"
     ]
    }
   ],
   "source": [
    "a = np.random.random((2,3))\n",
    "\n",
    "print(a)\n",
    "print(a.sum())"
   ]
  },
  {
   "cell_type": "code",
   "execution_count": 216,
   "id": "45cd3726",
   "metadata": {},
   "outputs": [
    {
     "name": "stdout",
     "output_type": "stream",
     "text": [
      "[0 1 2]\n",
      "[1.         2.71828183 7.3890561 ]\n",
      "[0.         1.         1.41421356]\n"
     ]
    }
   ],
   "source": [
    "b = np.arange(3)\n",
    "print(b)\n",
    "print(np.exp(b)) # 지수분포\n",
    "print(np.sqrt(b)) \n",
    " \n"
   ]
  },
  {
   "cell_type": "markdown",
   "id": "aee0735b",
   "metadata": {},
   "source": [
    "### broadcasting"
   ]
  },
  {
   "cell_type": "code",
   "execution_count": 222,
   "id": "e2b43848",
   "metadata": {},
   "outputs": [
    {
     "name": "stdout",
     "output_type": "stream",
     "text": [
      "[[ 1  2  3]\n",
      " [ 4  5  6]\n",
      " [ 7  8  9]\n",
      " [10 11 12]]\n",
      "\n",
      "[1 0 1]\n",
      "\n",
      "[[ 2  2  4]\n",
      " [ 5  5  7]\n",
      " [ 8  8 10]\n",
      " [11 11 13]]\n"
     ]
    }
   ],
   "source": [
    "x = np.array((range(1,13))).reshape(4,3)\n",
    "print(x)\n",
    "print()\n",
    "\n",
    "v = np.array([1,0,1])\n",
    "print(v)\n",
    "print()\n",
    "\n",
    "y = x+v\n",
    "\n",
    "print(y) # 행 개수가 맞지 않지만, brodacasting이 일어나서 연산이 됨"
   ]
  },
  {
   "cell_type": "code",
   "execution_count": null,
   "id": "fa7d5fd4",
   "metadata": {},
   "outputs": [],
   "source": []
  }
 ],
 "metadata": {
  "kernelspec": {
   "display_name": "Python 3 (ipykernel)",
   "language": "python",
   "name": "python3"
  },
  "language_info": {
   "codemirror_mode": {
    "name": "ipython",
    "version": 3
   },
   "file_extension": ".py",
   "mimetype": "text/x-python",
   "name": "python",
   "nbconvert_exporter": "python",
   "pygments_lexer": "ipython3",
   "version": "3.10.9"
  }
 },
 "nbformat": 4,
 "nbformat_minor": 5
}
