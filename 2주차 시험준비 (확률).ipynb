{
 "cells": [
  {
   "cell_type": "code",
   "execution_count": 3,
   "id": "2911c74d",
   "metadata": {},
   "outputs": [],
   "source": [
    "from scipy import stats\n",
    "import pandas as pd\n",
    "import numpy as np\n",
    "import matplotlib.pyplot as plt\n",
    "from statsmodels.stats.proportion import proportions_ztest\n",
    "\n",
    "import warnings\n",
    "warnings.filterwarnings('ignore')"
   ]
  },
  {
   "cell_type": "markdown",
   "id": "6f8ddfd2",
   "metadata": {},
   "source": [
    "### 1번 - 정규분포 확률 구하기 (231P)"
   ]
  },
  {
   "cell_type": "markdown",
   "id": "187eb28a",
   "metadata": {},
   "source": [
    "#### 대한민국 남성의 20~30대 키를 측정한 결과, 평균 175cm 표준편차 5cm 이다. <br> 나의 키가 180cm일 경우에 나는 몇 % 범위에 위치할까요?"
   ]
  },
  {
   "cell_type": "code",
   "execution_count": 3,
   "id": "2211db4b",
   "metadata": {},
   "outputs": [
    {
     "name": "stdout",
     "output_type": "stream",
     "text": [
      "나의 키가 180일 경우에 나는 몇 % 범위에 위치할까요: 15.9%\n"
     ]
    }
   ],
   "source": [
    "# 정규분포\n",
    "mu = 175\n",
    "sigma = 5\n",
    "x = 180\n",
    "prob = stats.norm.cdf(x,mu,sigma)\n",
    "print('나의 키가 {0}일 경우에 나는 몇 % 범위에 위치할까요: {1:.1f}%'.format(x,(1-prob)*100))"
   ]
  },
  {
   "cell_type": "markdown",
   "id": "029953dd",
   "metadata": {},
   "source": [
    "#### 어떤 자동차 1리터당 주행거리가 평균 12km, 표준편차 3km인 정규분포를 이룬다. (233P)\n",
    "\n",
    "##### 1) 1리터를 가지고 9km 이상 15km 이하를 달릴 확률은 얼마인가요? <br> 2) 1리터를 가지고 15km 이상을 달릴 확률은 얼마인가요?"
   ]
  },
  {
   "cell_type": "code",
   "execution_count": 4,
   "id": "c56a8e92",
   "metadata": {},
   "outputs": [
    {
     "name": "stdout",
     "output_type": "stream",
     "text": [
      "1리터를 가지고 9km 이상 15km 이하를 달릴 확률은 얼마인가요?: 0.683\n"
     ]
    }
   ],
   "source": [
    "mu = 12\n",
    "sigma = 3\n",
    "x1 = 9\n",
    "x2 = 15\n",
    "prob1 = stats.norm.cdf(x1,mu,sigma)\n",
    "prob2 = stats.norm.cdf(x2,mu,sigma)\n",
    "print('1리터를 가지고 {0}km 이상 {1}km 이하를 달릴 확률은 얼마인가요?: {2:.3f}'.format(x1,x2,(prob2-prob1)))"
   ]
  },
  {
   "cell_type": "code",
   "execution_count": 5,
   "id": "13c31d9f",
   "metadata": {},
   "outputs": [
    {
     "name": "stdout",
     "output_type": "stream",
     "text": [
      "1리터를 가지고 15km 이상을 달릴 확률은 얼마인가요?: 0.159\n"
     ]
    }
   ],
   "source": [
    "# 2번 문제\n",
    "print('1리터를 가지고 {0}km 이상을 달릴 확률은 얼마인가요?: {1:.3f}'.format(x2,(1-prob2)))"
   ]
  },
  {
   "cell_type": "markdown",
   "id": "01d13083",
   "metadata": {},
   "source": [
    "### 2번 카이제곱 분포 (322P)"
   ]
  },
  {
   "cell_type": "markdown",
   "id": "b83eeac7",
   "metadata": {},
   "source": [
    "#### 노트북 컴퓨터의 6가지 제품(A,B,C,D,E,F)에 대하여 7가지 제품의 이미지를 중복 선택할 수 있도록 32명의 소비자를 대상으로 설문조사한 table이다. <br> 각 제품에 대해 이미지에 대한 차이가 있겠는가? (유의수준 0.05)"
   ]
  },
  {
   "cell_type": "code",
   "execution_count": 7,
   "id": "b0d9500b",
   "metadata": {},
   "outputs": [
    {
     "name": "stdout",
     "output_type": "stream",
     "text": [
      "chi-square test\n",
      "chisq: 98.274\n",
      "p-value: 0.000\n",
      "degree pf freedom: 30\n",
      "expected value: \n",
      "[[11.   8.2  5.2  3.8  1.9  9.8]\n",
      " [ 8.5  6.4  4.1  3.   1.5  7.6]\n",
      " [10.5  7.8  5.   3.7  1.8  9.3]\n",
      " [ 8.3  6.2  3.9  2.9  1.4  7.3]\n",
      " [ 8.   6.   3.8  2.8  1.4  7.1]\n",
      " [ 8.8  6.6  4.2  3.1  1.5  7.8]\n",
      " [ 8.   6.   3.8  2.8  1.4  7.1]]\n"
     ]
    }
   ],
   "source": [
    "df = pd.DataFrame({'A': [18, 1, 8, 7, 10, 9, 10], 'B': [8, 2, 14, 5, 5, 9, 4],\n",
    "                  'C': [4, 1, 3, 4, 9, 5, 4], 'D': [4, 1, 2, 3, 2, 7, 3],\n",
    "                  'E': [3, 1, 3, 1, 1, 1, 1], 'F': [3, 25, 8, 10, 2, 1, 7]})\n",
    "\n",
    "# chi - x축 값\n",
    "# pval - pvalue\n",
    "# dof - 자유도 {(행-1)*(열-1)}\n",
    "# expected - 기댓값\n",
    "\n",
    "\n",
    "chi, pval, dof, expected = stats.chi2_contingency(df)\n",
    "\n",
    "print('chi-square test')\n",
    "print('chisq: {0:0.3f}'.format(chi))\n",
    "print('p-value: {0:0.3f}'.format(pval))\n",
    "print('degree pf freedom: {}'.format(dof))\n",
    "print('expected value: \\n{}'.format(expected.round(1)))"
   ]
  },
  {
   "cell_type": "markdown",
   "id": "b27829bf",
   "metadata": {},
   "source": [
    "### 이항분포 (255P)\n",
    "\n",
    "#### 도장공정에서 광택도 불량이 30%나 된다고 함 <br> 5대의 차량을 임의로 선택했을 때 불량대수가 각각 0, 1, 2, 3, 4, 5 대가 나올 확률은 얼마인가요?"
   ]
  },
  {
   "cell_type": "code",
   "execution_count": 8,
   "id": "8bdcd142",
   "metadata": {},
   "outputs": [
    {
     "name": "stdout",
     "output_type": "stream",
     "text": [
      "P(X=0) = 0.168\n",
      "P(X=1) = 0.360\n",
      "P(X=2) = 0.309\n",
      "P(X=3) = 0.132\n",
      "P(X=4) = 0.028\n",
      "P(X=5) = 0.002\n"
     ]
    }
   ],
   "source": [
    "n = 5 \n",
    "for i in range(n+1):\n",
    "    prob = stats.binom.pmf(k=i, n=n, p=0.3)\n",
    "    print('P(X={0}) = {1:.3f}'.format(i,prob))"
   ]
  },
  {
   "cell_type": "markdown",
   "id": "81ef5a8f",
   "metadata": {},
   "source": [
    "### 평균 검정하는 것"
   ]
  },
  {
   "cell_type": "markdown",
   "id": "37740677",
   "metadata": {},
   "source": [
    "#### 1-sample t-test (301P)\n",
    "\n",
    "고객서비스센터의 고객만족도 평균은 78.0이다. 개선활동을 완료한 후 다음과 같은 10개의 고객만족도 데이터를 얻었다. 개선활동이 만족도를 변화시켰는가? (유의수준 0.05)"
   ]
  },
  {
   "cell_type": "code",
   "execution_count": 26,
   "id": "308e1fa1",
   "metadata": {},
   "outputs": [
    {
     "data": {
      "image/png": "[encoded data removed]",
      "text/plain": [
       "<Figure size 640x480 with 1 Axes>"
      ]
     },
     "metadata": {},
     "output_type": "display_data"
    }
   ],
   "source": [
    "df = pd.DataFrame({'sample':[85.0, 79.0, 79.1, 79.9, 81.6, 78.6, 85.4, 83.4, 78.1, 79.2]})\n",
    "df.boxplot(['sample'])\n",
    "plt.show()"
   ]
  },
  {
   "cell_type": "code",
   "execution_count": 27,
   "id": "ab2f6ed8",
   "metadata": {},
   "outputs": [],
   "source": [
    "t_result = stats.ttest_1samp(df, 78.0)\n",
    "t, p = t_result.statistic.round(3), \\\n",
    "    t_result.pvalue.round(3)"
   ]
  },
  {
   "cell_type": "code",
   "execution_count": 28,
   "id": "ae0378ba",
   "metadata": {},
   "outputs": [
    {
     "name": "stdout",
     "output_type": "stream",
     "text": [
      "1-Sample t-test\n",
      "t 통계량 : [3.379]\n",
      "p-value : [0.008]\n",
      "평균 :  sample    80.93\n",
      "dtype: float64\n"
     ]
    }
   ],
   "source": [
    "print('1-Sample t-test')\n",
    "print('t 통계량 : {}'.format(t))\n",
    "print('p-value : {}'.format(p))\n",
    "print('평균 : ', np.mean(df))"
   ]
  },
  {
   "cell_type": "markdown",
   "id": "c807a015",
   "metadata": {},
   "source": [
    "#### 2-sample t-test (303p)\n",
    "\n",
    "제품을 A공급자와 B공급자로 부터 제품을 받아 두께를 측정해서 다음의 데이터를 얻었다. 공급자간에 모평균에 차이가 있다고 할 수 있는가? (유의수준 0.05)"
   ]
  },
  {
   "cell_type": "code",
   "execution_count": 20,
   "id": "d5387319",
   "metadata": {},
   "outputs": [
    {
     "data": {
      "image/png": "[encoded data removed]",
      "text/plain": [
       "<Figure size 640x480 with 1 Axes>"
      ]
     },
     "metadata": {},
     "output_type": "display_data"
    }
   ],
   "source": [
    "df = pd.DataFrame({'A' : [1.883, 1.715, 1.799, 1.768, 1.711, 1.832, 1.427, 1.344],\n",
    "                 'B' : [1.435, 1.572, 1.486, 1.511, 1.457, 1.548, 1.404, 1.883]})\n",
    "df.boxplot(['A','B'])\n",
    "plt.show()"
   ]
  },
  {
   "cell_type": "code",
   "execution_count": 21,
   "id": "8165e4e4",
   "metadata": {},
   "outputs": [
    {
     "name": "stdout",
     "output_type": "stream",
     "text": [
      "statistic=0.8425754904747009, p-value=0.08004532009363174,\n"
     ]
    }
   ],
   "source": [
    "# A 정규성 검정 \n",
    "statistic, p = stats.shapiro(df['A'])\n",
    "print(\"statistic={}, p-value={},\". format(statistic, p))"
   ]
  },
  {
   "cell_type": "code",
   "execution_count": 22,
   "id": "61d7e003",
   "metadata": {},
   "outputs": [
    {
     "name": "stdout",
     "output_type": "stream",
     "text": [
      "statistic=0.7734811902046204, p-value=0.014793740585446358,\n"
     ]
    }
   ],
   "source": [
    "# B 정규성 검정\n",
    "statistic, p = stats.shapiro(df['B'])\n",
    "print(\"statistic={}, p-value={},\". format(statistic, p))"
   ]
  },
  {
   "cell_type": "code",
   "execution_count": 23,
   "id": "039b4b11",
   "metadata": {},
   "outputs": [
    {
     "data": {
      "text/plain": [
       "BartlettResult(statistic=0.42411436523132123, pvalue=0.5148911629500761)"
      ]
     },
     "execution_count": 23,
     "metadata": {},
     "output_type": "execute_result"
    }
   ],
   "source": [
    "# 등분산성 검정\n",
    "stats.bartlett(df['A'], df['B'])"
   ]
  },
  {
   "cell_type": "code",
   "execution_count": 24,
   "id": "76e81c21",
   "metadata": {},
   "outputs": [],
   "source": [
    "# 2-Sample t-test\n",
    "t_result = stats.ttest_ind(df['A'],df['B'])\n",
    "t, p = t_result.statistic.round(3), t_result.pvalue.round(3)"
   ]
  },
  {
   "cell_type": "code",
   "execution_count": 25,
   "id": "7a130dba",
   "metadata": {},
   "outputs": [
    {
     "name": "stdout",
     "output_type": "stream",
     "text": [
      "2-Sample t-test\n",
      "t:1.7\n",
      "p:0.111\n"
     ]
    }
   ],
   "source": [
    "print(\"2-Sample t-test\")\n",
    "print(\"t:{}\".format(t))\n",
    "print(\"p:{}\".format(p))"
   ]
  },
  {
   "cell_type": "markdown",
   "id": "ef346e8f",
   "metadata": {},
   "source": [
    "### 상관관계 분석 (334p)\n",
    "\n",
    "#### 초코칩의 강도와 재료 반죽온도간에 관계를 분석하기 위한 상관분석을 하세요."
   ]
  },
  {
   "cell_type": "code",
   "execution_count": 19,
   "id": "ad05ddf9",
   "metadata": {},
   "outputs": [
    {
     "name": "stdout",
     "output_type": "stream",
     "text": [
      "Correlation Analysis\n",
      "corr:-0.723\n",
      "p-value:0.000\n"
     ]
    }
   ],
   "source": [
    "# 초코칩의 강도\n",
    "df1 = [37.6, 38.6, 37.2, 36.4, 38.6, 39, 37.2, 36.1, 35.9, 37.1, 36.9, 37.5, 36.3, 38.1, 39, 36.9, 36.8, 37.6, 33, 33.5]\n",
    "# 재료 반죽온도\n",
    "df2 = [14, 15, 14, 16, 17, 14, 17, 16, 15, 16, 14, 16, 18, 13, 15, 17, 14, 16, 20, 21]\n",
    "\n",
    "corr, pval = stats.pearsonr(df1, df2)\n",
    "\n",
    "print('Correlation Analysis')\n",
    "print('corr:{0:0.3f}'.format(corr))  # 상관계수\n",
    "print('p-value:{0:0.3f}'.format(pval)) # p-value"
   ]
  },
  {
   "cell_type": "markdown",
   "id": "74a9b9d5",
   "metadata": {},
   "source": [
    "-----------------------------------"
   ]
  },
  {
   "cell_type": "markdown",
   "id": "1b7dce47",
   "metadata": {},
   "source": [
    "## 2주차 시험"
   ]
  },
  {
   "cell_type": "code",
   "execution_count": 7,
   "id": "97df065b",
   "metadata": {},
   "outputs": [
    {
     "data": {
      "text/html": [
       "<div>\n",
       "<style scoped>\n",
       "    .dataframe tbody tr th:only-of-type {\n",
       "        vertical-align: middle;\n",
       "    }\n",
       "\n",
       "    .dataframe tbody tr th {\n",
       "        vertical-align: top;\n",
       "    }\n",
       "\n",
       "    .dataframe thead th {\n",
       "        text-align: right;\n",
       "    }\n",
       "</style>\n",
       "<table border=\"1\" class=\"dataframe\">\n",
       "  <thead>\n",
       "    <tr style=\"text-align: right;\">\n",
       "      <th></th>\n",
       "      <th>A 부서</th>\n",
       "      <th>B 부서</th>\n",
       "      <th>C 부서</th>\n",
       "      <th>D 부서</th>\n",
       "    </tr>\n",
       "  </thead>\n",
       "  <tbody>\n",
       "    <tr>\n",
       "      <th>0</th>\n",
       "      <td>25</td>\n",
       "      <td>31</td>\n",
       "      <td>19</td>\n",
       "      <td>18</td>\n",
       "    </tr>\n",
       "    <tr>\n",
       "      <th>1</th>\n",
       "      <td>30</td>\n",
       "      <td>30</td>\n",
       "      <td>21</td>\n",
       "      <td>25</td>\n",
       "    </tr>\n",
       "    <tr>\n",
       "      <th>2</th>\n",
       "      <td>20</td>\n",
       "      <td>34</td>\n",
       "      <td>27</td>\n",
       "      <td>16</td>\n",
       "    </tr>\n",
       "    <tr>\n",
       "      <th>3</th>\n",
       "      <td>23</td>\n",
       "      <td>30</td>\n",
       "      <td>25</td>\n",
       "      <td>19</td>\n",
       "    </tr>\n",
       "    <tr>\n",
       "      <th>4</th>\n",
       "      <td>27</td>\n",
       "      <td>28</td>\n",
       "      <td>25</td>\n",
       "      <td>20</td>\n",
       "    </tr>\n",
       "  </tbody>\n",
       "</table>\n",
       "</div>"
      ],
      "text/plain": [
       "   A 부서  B 부서  C 부서  D 부서\n",
       "0    25    31    19    18\n",
       "1    30    30    21    25\n",
       "2    20    34    27    16\n",
       "3    23    30    25    19\n",
       "4    27    28    25    20"
      ]
     },
     "execution_count": 7,
     "metadata": {},
     "output_type": "execute_result"
    }
   ],
   "source": [
    "# 데이터 불러오기\n",
    "dt_jp = pd.read_csv('/home/piai/바탕화면/1차시험_주관식 데이터셋/전표처리시간.csv', encoding='euc-kr')\n",
    "dt_jp.head()"
   ]
  },
  {
   "cell_type": "code",
   "execution_count": 10,
   "id": "f475f535",
   "metadata": {},
   "outputs": [
    {
     "data": {
      "text/plain": [
       "25.450000000000003"
      ]
     },
     "execution_count": 10,
     "metadata": {},
     "output_type": "execute_result"
    }
   ],
   "source": [
    "mean = dt_jp.mean().mean()\n",
    "mean"
   ]
  },
  {
   "cell_type": "code",
   "execution_count": 13,
   "id": "2e35fea5",
   "metadata": {},
   "outputs": [
    {
     "data": {
      "text/plain": [
       "A 부서    3.898718\n",
       "B 부서    1.486607\n",
       "C 부서    3.469870\n",
       "D 부서    3.008322\n",
       "dtype: float64"
      ]
     },
     "execution_count": 13,
     "metadata": {},
     "output_type": "execute_result"
    }
   ],
   "source": [
    "std = np.std(dt_jp)\n",
    "std"
   ]
  },
  {
   "cell_type": "code",
   "execution_count": 14,
   "id": "6bd5b898",
   "metadata": {},
   "outputs": [
    {
     "name": "stdout",
     "output_type": "stream",
     "text": [
      "4.89157438868101\n"
     ]
    }
   ],
   "source": [
    "data = np.array([\n",
    "    [25, 31, 19, 18],\n",
    "    [30, 30, 21, 25],\n",
    "    [20, 34, 27, 16],\n",
    "    [23, 30, 25, 19],\n",
    "    [27, 28, 25, 20]\n",
    "])\n",
    "\n",
    "std_dev = np.std(data)\n",
    "print(std_dev)"
   ]
  },
  {
   "cell_type": "code",
   "execution_count": 15,
   "id": "71439f63",
   "metadata": {},
   "outputs": [
    {
     "name": "stdout",
     "output_type": "stream",
     "text": [
      "나의 키가 35일 경우에 나는 몇 % 범위에 위치할까요: 2.5%\n"
     ]
    }
   ],
   "source": [
    "# 정규분포\n",
    "mu = mean\n",
    "sigma = std_dev\n",
    "x = 35\n",
    "prob = stats.norm.cdf(x,mu,sigma)\n",
    "print('나의 키가 {0}일 경우에 나는 몇 % 범위에 위치할까요: {1:.1f}%'.format(x,(1-prob)*100))"
   ]
  },
  {
   "cell_type": "markdown",
   "id": "afcb06eb",
   "metadata": {},
   "source": [
    "#### 문제 2번\n"
   ]
  },
  {
   "cell_type": "code",
   "execution_count": 16,
   "id": "74f99855",
   "metadata": {},
   "outputs": [
    {
     "name": "stdout",
     "output_type": "stream",
     "text": [
      "chi-square test\n",
      "chisq: 7.878\n",
      "p-value: 0.019\n",
      "degree pf freedom: 2\n",
      "expected value: \n",
      "[[200.9 209.9 187.2]\n",
      " [135.1 141.1 125.8]]\n"
     ]
    }
   ],
   "source": [
    "df = pd.DataFrame({'A': [182, 154], 'B': [213, 138], 'C': [203, 110]})\n",
    "\n",
    "# chi - x축 값\n",
    "# pval - pvalue\n",
    "# dof - 자유도 {(행-1)*(열-1)}\n",
    "# expected - 기댓값\n",
    "\n",
    "\n",
    "chi, pval, dof, expected = stats.chi2_contingency(df)\n",
    "\n",
    "print('chi-square test')\n",
    "print('chisq: {0:0.3f}'.format(chi))\n",
    "print('p-value: {0:0.3f}'.format(pval))\n",
    "print('degree pf freedom: {}'.format(dof))\n",
    "print('expected value: \\n{}'.format(expected.round(1)))"
   ]
  },
  {
   "cell_type": "code",
   "execution_count": 17,
   "id": "5557a562",
   "metadata": {},
   "outputs": [
    {
     "data": {
      "text/html": [
       "<div>\n",
       "<style scoped>\n",
       "    .dataframe tbody tr th:only-of-type {\n",
       "        vertical-align: middle;\n",
       "    }\n",
       "\n",
       "    .dataframe tbody tr th {\n",
       "        vertical-align: top;\n",
       "    }\n",
       "\n",
       "    .dataframe thead th {\n",
       "        text-align: right;\n",
       "    }\n",
       "</style>\n",
       "<table border=\"1\" class=\"dataframe\">\n",
       "  <thead>\n",
       "    <tr style=\"text-align: right;\">\n",
       "      <th></th>\n",
       "      <th>A</th>\n",
       "      <th>B</th>\n",
       "      <th>C</th>\n",
       "    </tr>\n",
       "  </thead>\n",
       "  <tbody>\n",
       "    <tr>\n",
       "      <th>0</th>\n",
       "      <td>182</td>\n",
       "      <td>213</td>\n",
       "      <td>203</td>\n",
       "    </tr>\n",
       "    <tr>\n",
       "      <th>1</th>\n",
       "      <td>154</td>\n",
       "      <td>138</td>\n",
       "      <td>110</td>\n",
       "    </tr>\n",
       "  </tbody>\n",
       "</table>\n",
       "</div>"
      ],
      "text/plain": [
       "     A    B    C\n",
       "0  182  213  203\n",
       "1  154  138  110"
      ]
     },
     "execution_count": 17,
     "metadata": {},
     "output_type": "execute_result"
    }
   ],
   "source": [
    "df"
   ]
  },
  {
   "cell_type": "markdown",
   "id": "8b0f266a",
   "metadata": {},
   "source": [
    "### 문제 3번"
   ]
  },
  {
   "cell_type": "code",
   "execution_count": 28,
   "id": "947440af",
   "metadata": {},
   "outputs": [
    {
     "name": "stdout",
     "output_type": "stream",
     "text": [
      "P(X=0) = 0.774\n",
      "P(X=1) = 0.204\n",
      "P(X=2) = 0.021\n",
      "P(X=3) = 0.001\n",
      "P(X=4) = 0.000\n",
      "P(X=5) = 0.000\n"
     ]
    }
   ],
   "source": [
    "n = 5 \n",
    "for i in range(n+1):\n",
    "#     cdf = stats.binom.cdf(k=i, n=n, p=0.05)\n",
    "#     print('P(X={0}) = {1:.3f}'.format(i,cdf))\n",
    "    prob = stats.binom.pmf(k=i, n=n, p=0.05)\n",
    "    print('P(X={0}) = {1:.3f}'.format(i,prob))"
   ]
  },
  {
   "cell_type": "markdown",
   "id": "9e83521e",
   "metadata": {},
   "source": [
    "### 문제 4번"
   ]
  },
  {
   "cell_type": "code",
   "execution_count": 37,
   "id": "51e9d125",
   "metadata": {},
   "outputs": [],
   "source": [
    "df = pd.DataFrame({'A' : [68.7,71.4,69.8,75.3,71.3,72.7,66.9,70.2,74.4,70.1]} )\n",
    "# df.boxplot(['A','B'])\n",
    "# plt.show()"
   ]
  },
  {
   "cell_type": "code",
   "execution_count": 38,
   "id": "f17b4d0a",
   "metadata": {},
   "outputs": [
    {
     "name": "stdout",
     "output_type": "stream",
     "text": [
      "statistic=0.9729753732681274, p-value=0.9169775247573853,\n"
     ]
    }
   ],
   "source": [
    "# A 정규성 검정 \n",
    "statistic, p = stats.shapiro(df['A'])\n",
    "print(\"statistic={}, p-value={},\". format(statistic, p))"
   ]
  },
  {
   "cell_type": "code",
   "execution_count": 41,
   "id": "a79fc6fa",
   "metadata": {},
   "outputs": [],
   "source": [
    "dfb = pd.DataFrame({ 'B' : [73.4,77,73.7,73.3,73.1,74.5,77.5,76.4,75.7]})\n",
    "\n"
   ]
  },
  {
   "cell_type": "code",
   "execution_count": 42,
   "id": "1ec9de01",
   "metadata": {},
   "outputs": [
    {
     "name": "stdout",
     "output_type": "stream",
     "text": [
      "statistic=0.8836878538131714, p-value=0.171633780002594,\n"
     ]
    }
   ],
   "source": [
    "# B 정규성 검정\n",
    "statistic, p = stats.shapiro(dfb['B'])\n",
    "print(\"statistic={}, p-value={},\". format(statistic, p))"
   ]
  },
  {
   "cell_type": "markdown",
   "id": "c490716b",
   "metadata": {},
   "source": [
    "### 5qjs\n"
   ]
  },
  {
   "cell_type": "code",
   "execution_count": 43,
   "id": "3fb81bff",
   "metadata": {},
   "outputs": [
    {
     "name": "stdout",
     "output_type": "stream",
     "text": [
      "Correlation Analysis\n",
      "corr:-0.723\n",
      "p-value:0.000\n"
     ]
    }
   ],
   "source": [
    "# 초코칩의 강도\n",
    "df1 = [37.6, 38.6, 37.2, 36.4, 38.6, 39, 37.2, 36.1, 35.9, 37.1, 36.9, 37.5, 36.3, 38.1, 39, 36.9, 36.8, 37.6, 33, 33.5]\n",
    "# 재료 반죽온도\n",
    "df2 = [14, 15, 14, 16, 17, 14, 17, 16, 15, 16, 14, 16, 18, 13, 15, 17, 14, 16, 20, 21]\n",
    "\n",
    "corr, pval = stats.pearsonr(df1, df2)\n",
    "\n",
    "print('Correlation Analysis')\n",
    "print('corr:{0:0.3f}'.format(corr))  # 상관계수\n",
    "print('p-value:{0:0.3f}'.format(pval)) # p-value"
   ]
  },
  {
   "cell_type": "code",
   "execution_count": null,
   "id": "a5cfe7d9",
   "metadata": {},
   "outputs": [],
   "source": []
  }
 ],
 "metadata": {
  "kernelspec": {
   "display_name": "Python 3 (ipykernel)",
   "language": "python",
   "name": "python3"
  },
  "language_info": {
   "codemirror_mode": {
    "name": "ipython",
    "version": 3
   },
   "file_extension": ".py",
   "mimetype": "text/x-python",
   "name": "python",
   "nbconvert_exporter": "python",
   "pygments_lexer": "ipython3",
   "version": "3.8.16"
  }
 },
 "nbformat": 4,
 "nbformat_minor": 5
}
