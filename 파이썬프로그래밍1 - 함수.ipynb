{
 "cells": [
  {
   "cell_type": "code",
   "execution_count": 9,
   "id": "c49e819a",
   "metadata": {},
   "outputs": [
    {
     "name": "stdout",
     "output_type": "stream",
     "text": [
      "hello world\n"
     ]
    }
   ],
   "source": [
    "print(\"hello world\")"
   ]
  },
  {
   "cell_type": "code",
   "execution_count": 10,
   "id": "09b260df",
   "metadata": {},
   "outputs": [
    {
     "name": "stdout",
     "output_type": "stream",
     "text": [
      "35\n"
     ]
    }
   ],
   "source": [
    "a = 12 \n",
    "b = 23\n",
    "print(a+b)"
   ]
  },
  {
   "cell_type": "code",
   "execution_count": 11,
   "id": "b3319e75",
   "metadata": {},
   "outputs": [],
   "source": [
    "###가나다라"
   ]
  },
  {
   "cell_type": "markdown",
   "id": "62882a0f",
   "metadata": {},
   "source": [
    "## 연습"
   ]
  },
  {
   "cell_type": "markdown",
   "id": "66c8dad5",
   "metadata": {},
   "source": [
    "### 집합\n",
    "\n",
    "- set type\n",
    "- 순서 없이 항목을 저장\n",
    "- 항목이 중복 될 수 없음"
   ]
  },
  {
   "cell_type": "code",
   "execution_count": 12,
   "id": "25c6c86c",
   "metadata": {},
   "outputs": [],
   "source": [
    "s1 = set([1,2,3])"
   ]
  },
  {
   "cell_type": "code",
   "execution_count": 13,
   "id": "72ac1979",
   "metadata": {},
   "outputs": [],
   "source": [
    "s2 = {3,4,5}"
   ]
  },
  {
   "cell_type": "code",
   "execution_count": 14,
   "id": "3b6863f1",
   "metadata": {},
   "outputs": [],
   "source": [
    "word = \"Hello\" * 2"
   ]
  },
  {
   "cell_type": "code",
   "execution_count": 16,
   "id": "fc2901d7",
   "metadata": {},
   "outputs": [
    {
     "data": {
      "text/plain": [
       "'HelloHello'"
      ]
     },
     "execution_count": 16,
     "metadata": {},
     "output_type": "execute_result"
    }
   ],
   "source": [
    "word"
   ]
  },
  {
   "cell_type": "code",
   "execution_count": 17,
   "id": "7bb076d7",
   "metadata": {},
   "outputs": [],
   "source": [
    "word_list = list(word)"
   ]
  },
  {
   "cell_type": "code",
   "execution_count": 18,
   "id": "95ff7e61",
   "metadata": {},
   "outputs": [
    {
     "data": {
      "text/plain": [
       "['H', 'e', 'l', 'l', 'o', 'H', 'e', 'l', 'l', 'o']"
      ]
     },
     "execution_count": 18,
     "metadata": {},
     "output_type": "execute_result"
    }
   ],
   "source": [
    "word_list"
   ]
  },
  {
   "cell_type": "code",
   "execution_count": 20,
   "id": "3204a476",
   "metadata": {},
   "outputs": [],
   "source": [
    "s3 = set(word_list)"
   ]
  },
  {
   "cell_type": "code",
   "execution_count": 22,
   "id": "93b94446",
   "metadata": {},
   "outputs": [
    {
     "data": {
      "text/plain": [
       "{'H', 'e', 'l', 'o'}"
      ]
     },
     "execution_count": 22,
     "metadata": {},
     "output_type": "execute_result"
    }
   ],
   "source": [
    "s3 \n",
    "# set은 중복된 원소가 없음"
   ]
  },
  {
   "cell_type": "code",
   "execution_count": 23,
   "id": "c90c29f9",
   "metadata": {},
   "outputs": [],
   "source": [
    "\n",
    "s4 = set(\"Hello\")"
   ]
  },
  {
   "cell_type": "code",
   "execution_count": 24,
   "id": "90486fd2",
   "metadata": {},
   "outputs": [
    {
     "data": {
      "text/plain": [
       "{'H', 'e', 'l', 'o'}"
      ]
     },
     "execution_count": 24,
     "metadata": {},
     "output_type": "execute_result"
    }
   ],
   "source": [
    "s4"
   ]
  },
  {
   "cell_type": "code",
   "execution_count": 25,
   "id": "2842ec80",
   "metadata": {},
   "outputs": [],
   "source": [
    "s = {1,2,3,4,5,3,4}"
   ]
  },
  {
   "cell_type": "code",
   "execution_count": 26,
   "id": "676bdb62",
   "metadata": {},
   "outputs": [
    {
     "data": {
      "text/plain": [
       "{1, 2, 3, 4, 5}"
      ]
     },
     "execution_count": 26,
     "metadata": {},
     "output_type": "execute_result"
    }
   ],
   "source": [
    "s"
   ]
  },
  {
   "cell_type": "code",
   "execution_count": 28,
   "id": "37491bfa",
   "metadata": {},
   "outputs": [],
   "source": [
    "s.add(10)"
   ]
  },
  {
   "cell_type": "code",
   "execution_count": 29,
   "id": "088ba50b",
   "metadata": {},
   "outputs": [
    {
     "data": {
      "text/plain": [
       "{1, 2, 3, 4, 5, 10}"
      ]
     },
     "execution_count": 29,
     "metadata": {},
     "output_type": "execute_result"
    }
   ],
   "source": [
    "s"
   ]
  },
  {
   "cell_type": "code",
   "execution_count": 30,
   "id": "b934398f",
   "metadata": {},
   "outputs": [],
   "source": [
    "s.remove(2)"
   ]
  },
  {
   "cell_type": "code",
   "execution_count": 31,
   "id": "3295732e",
   "metadata": {},
   "outputs": [
    {
     "data": {
      "text/plain": [
       "{1, 3, 4, 5, 10}"
      ]
     },
     "execution_count": 31,
     "metadata": {},
     "output_type": "execute_result"
    }
   ],
   "source": [
    "s"
   ]
  },
  {
   "cell_type": "code",
   "execution_count": 32,
   "id": "b055ce11",
   "metadata": {},
   "outputs": [],
   "source": [
    "s.update([1,3,5,7,9])"
   ]
  },
  {
   "cell_type": "code",
   "execution_count": 33,
   "id": "cec551bb",
   "metadata": {},
   "outputs": [
    {
     "data": {
      "text/plain": [
       "{1, 3, 4, 5, 7, 9, 10}"
      ]
     },
     "execution_count": 33,
     "metadata": {},
     "output_type": "execute_result"
    }
   ],
   "source": [
    "s"
   ]
  },
  {
   "cell_type": "code",
   "execution_count": 34,
   "id": "5f9142d1",
   "metadata": {},
   "outputs": [],
   "source": [
    "s.discard(7)"
   ]
  },
  {
   "cell_type": "code",
   "execution_count": 35,
   "id": "540719df",
   "metadata": {},
   "outputs": [
    {
     "data": {
      "text/plain": [
       "{1, 3, 4, 5, 9, 10}"
      ]
     },
     "execution_count": 35,
     "metadata": {},
     "output_type": "execute_result"
    }
   ],
   "source": [
    "s"
   ]
  },
  {
   "cell_type": "code",
   "execution_count": 36,
   "id": "77ed46d0",
   "metadata": {},
   "outputs": [],
   "source": [
    "s.clear()"
   ]
  },
  {
   "cell_type": "code",
   "execution_count": 37,
   "id": "77acc12d",
   "metadata": {},
   "outputs": [
    {
     "data": {
      "text/plain": [
       "set()"
      ]
     },
     "execution_count": 37,
     "metadata": {},
     "output_type": "execute_result"
    }
   ],
   "source": [
    "s"
   ]
  },
  {
   "cell_type": "code",
   "execution_count": 38,
   "id": "bb954d24",
   "metadata": {},
   "outputs": [],
   "source": [
    "s1 = {1, 2, 3}"
   ]
  },
  {
   "cell_type": "code",
   "execution_count": 39,
   "id": "9a767a91",
   "metadata": {},
   "outputs": [],
   "source": [
    "s2 = {3, 4, 5}"
   ]
  },
  {
   "cell_type": "code",
   "execution_count": 40,
   "id": "c3675665",
   "metadata": {},
   "outputs": [
    {
     "data": {
      "text/plain": [
       "{1, 2, 3, 4, 5}"
      ]
     },
     "execution_count": 40,
     "metadata": {},
     "output_type": "execute_result"
    }
   ],
   "source": [
    "s1.union(s2)"
   ]
  },
  {
   "cell_type": "code",
   "execution_count": 41,
   "id": "f2458299",
   "metadata": {},
   "outputs": [
    {
     "data": {
      "text/plain": [
       "{3}"
      ]
     },
     "execution_count": 41,
     "metadata": {},
     "output_type": "execute_result"
    }
   ],
   "source": [
    "s1.intersection(s2)\n"
   ]
  },
  {
   "cell_type": "code",
   "execution_count": 42,
   "id": "b611cb62",
   "metadata": {},
   "outputs": [
    {
     "data": {
      "text/plain": [
       "{1, 2}"
      ]
     },
     "execution_count": 42,
     "metadata": {},
     "output_type": "execute_result"
    }
   ],
   "source": [
    "s1 - s2"
   ]
  },
  {
   "cell_type": "code",
   "execution_count": 43,
   "id": "091a4265",
   "metadata": {},
   "outputs": [
    {
     "data": {
      "text/plain": [
       "{1, 2}"
      ]
     },
     "execution_count": 43,
     "metadata": {},
     "output_type": "execute_result"
    }
   ],
   "source": [
    "s1.difference(s2)\n"
   ]
  },
  {
   "cell_type": "code",
   "execution_count": 44,
   "id": "5f4c2abb",
   "metadata": {},
   "outputs": [
    {
     "data": {
      "text/plain": [
       "{1, 2, 3, 4, 5}"
      ]
     },
     "execution_count": 44,
     "metadata": {},
     "output_type": "execute_result"
    }
   ],
   "source": [
    "s1 | s2"
   ]
  },
  {
   "cell_type": "code",
   "execution_count": 45,
   "id": "19c79a50",
   "metadata": {},
   "outputs": [
    {
     "data": {
      "text/plain": [
       "{3}"
      ]
     },
     "execution_count": 45,
     "metadata": {},
     "output_type": "execute_result"
    }
   ],
   "source": [
    "s1 & s2"
   ]
  },
  {
   "cell_type": "markdown",
   "id": "098bd0e1",
   "metadata": {},
   "source": [
    "### 집합 연습문제 실습"
   ]
  },
  {
   "cell_type": "code",
   "execution_count": 68,
   "id": "81fc68b6",
   "metadata": {},
   "outputs": [],
   "source": [
    "a = set()"
   ]
  },
  {
   "cell_type": "code",
   "execution_count": 81,
   "id": "156c30c8",
   "metadata": {},
   "outputs": [],
   "source": [
    "for i in range(1,101):\n",
    "    if i%3 == 0:\n",
    "        a.add(i)\n"
   ]
  },
  {
   "cell_type": "code",
   "execution_count": 82,
   "id": "ffbdb30d",
   "metadata": {},
   "outputs": [
    {
     "data": {
      "text/plain": [
       "{3,\n",
       " 6,\n",
       " 9,\n",
       " 12,\n",
       " 15,\n",
       " 18,\n",
       " 21,\n",
       " 24,\n",
       " 27,\n",
       " 30,\n",
       " 33,\n",
       " 36,\n",
       " 39,\n",
       " 42,\n",
       " 45,\n",
       " 48,\n",
       " 51,\n",
       " 54,\n",
       " 57,\n",
       " 60,\n",
       " 63,\n",
       " 66,\n",
       " 69,\n",
       " 72,\n",
       " 75,\n",
       " 78,\n",
       " 81,\n",
       " 84,\n",
       " 87,\n",
       " 90,\n",
       " 93,\n",
       " 96,\n",
       " 99}"
      ]
     },
     "execution_count": 82,
     "metadata": {},
     "output_type": "execute_result"
    }
   ],
   "source": [
    "a"
   ]
  },
  {
   "cell_type": "code",
   "execution_count": 87,
   "id": "ce837e62",
   "metadata": {},
   "outputs": [
    {
     "data": {
      "text/plain": [
       "{5,\n",
       " 10,\n",
       " 15,\n",
       " 20,\n",
       " 25,\n",
       " 30,\n",
       " 35,\n",
       " 40,\n",
       " 45,\n",
       " 50,\n",
       " 55,\n",
       " 60,\n",
       " 65,\n",
       " 70,\n",
       " 75,\n",
       " 80,\n",
       " 85,\n",
       " 90,\n",
       " 95,\n",
       " 100}"
      ]
     },
     "execution_count": 87,
     "metadata": {},
     "output_type": "execute_result"
    }
   ],
   "source": [
    "b = set()\n",
    "for i in range(1,101):\n",
    "    if i%5 == 0:\n",
    "        b.add(i)\n",
    "b"
   ]
  },
  {
   "cell_type": "code",
   "execution_count": 84,
   "id": "1dd14294",
   "metadata": {},
   "outputs": [],
   "source": [
    "s = a & b"
   ]
  },
  {
   "cell_type": "code",
   "execution_count": 85,
   "id": "d4c5db59",
   "metadata": {},
   "outputs": [
    {
     "name": "stdout",
     "output_type": "stream",
     "text": [
      "{75, 45, 15, 90, 60, 30}\n"
     ]
    }
   ],
   "source": [
    "print(s)"
   ]
  },
  {
   "cell_type": "code",
   "execution_count": 86,
   "id": "130bf63a",
   "metadata": {},
   "outputs": [
    {
     "name": "stdout",
     "output_type": "stream",
     "text": [
      "3와 5의 공배수 :  6 개\n"
     ]
    }
   ],
   "source": [
    "print(\"3와 5의 공배수 : \" , len(s) , \"개\" )"
   ]
  },
  {
   "cell_type": "code",
   "execution_count": 91,
   "id": "71b81e79",
   "metadata": {},
   "outputs": [
    {
     "name": "stdout",
     "output_type": "stream",
     "text": [
      "{75, 45, 15, 90, 60, 30}\n",
      "3와 5의 공배수 6 개\n"
     ]
    }
   ],
   "source": [
    "s3 = {i for i in range(3, 100, 3)}\n",
    "s5 = {i for i in range(5, 100, 5)}\n",
    "s = s3&s5\n",
    "print(s)\n",
    "print(\"3와 5의 공배수\", str(len(s)), \"개\")"
   ]
  },
  {
   "cell_type": "markdown",
   "id": "62fac4b3",
   "metadata": {},
   "source": [
    "### 딕셔너리\n",
    "\n",
    "- key로 value를 관리\n",
    "- 항목들 사이에 순서가 없음"
   ]
  },
  {
   "cell_type": "code",
   "execution_count": 92,
   "id": "85739666",
   "metadata": {},
   "outputs": [],
   "source": [
    "d = {}\n",
    "d['kim'] = 1"
   ]
  },
  {
   "cell_type": "code",
   "execution_count": 93,
   "id": "944c2ee8",
   "metadata": {},
   "outputs": [
    {
     "data": {
      "text/plain": [
       "{'kim': 1}"
      ]
     },
     "execution_count": 93,
     "metadata": {},
     "output_type": "execute_result"
    }
   ],
   "source": [
    "d"
   ]
  },
  {
   "cell_type": "code",
   "execution_count": 94,
   "id": "36d8a719",
   "metadata": {},
   "outputs": [
    {
     "data": {
      "text/plain": [
       "dict_keys(['kim'])"
      ]
     },
     "execution_count": 94,
     "metadata": {},
     "output_type": "execute_result"
    }
   ],
   "source": [
    "d.keys()"
   ]
  },
  {
   "cell_type": "code",
   "execution_count": 95,
   "id": "c72e724d",
   "metadata": {},
   "outputs": [],
   "source": [
    "d['han'] = 3"
   ]
  },
  {
   "cell_type": "code",
   "execution_count": 96,
   "id": "a00673b0",
   "metadata": {},
   "outputs": [
    {
     "data": {
      "text/plain": [
       "{'kim': 1, 'han': 3}"
      ]
     },
     "execution_count": 96,
     "metadata": {},
     "output_type": "execute_result"
    }
   ],
   "source": [
    "d"
   ]
  },
  {
   "cell_type": "code",
   "execution_count": 97,
   "id": "38e6203b",
   "metadata": {},
   "outputs": [
    {
     "data": {
      "text/plain": [
       "dict_keys(['kim', 'han'])"
      ]
     },
     "execution_count": 97,
     "metadata": {},
     "output_type": "execute_result"
    }
   ],
   "source": [
    "d.keys()"
   ]
  },
  {
   "cell_type": "code",
   "execution_count": 100,
   "id": "d6cdadff",
   "metadata": {},
   "outputs": [
    {
     "data": {
      "text/plain": [
       "dict_items([('kim', 1), ('han', 3)])"
      ]
     },
     "execution_count": 100,
     "metadata": {},
     "output_type": "execute_result"
    }
   ],
   "source": [
    "d.items()\n",
    "\n",
    "# 튜플 : 괄호로 묶어져 있는 것"
   ]
  },
  {
   "cell_type": "code",
   "execution_count": 99,
   "id": "40790861",
   "metadata": {},
   "outputs": [
    {
     "data": {
      "text/plain": [
       "True"
      ]
     },
     "execution_count": 99,
     "metadata": {},
     "output_type": "execute_result"
    }
   ],
   "source": [
    "'kim' in d"
   ]
  },
  {
   "cell_type": "code",
   "execution_count": 101,
   "id": "9b209430",
   "metadata": {},
   "outputs": [
    {
     "data": {
      "text/plain": [
       "False"
      ]
     },
     "execution_count": 101,
     "metadata": {},
     "output_type": "execute_result"
    }
   ],
   "source": [
    "'ㄴㅁㅇㄹ' in d"
   ]
  },
  {
   "cell_type": "code",
   "execution_count": 102,
   "id": "ece31908",
   "metadata": {},
   "outputs": [],
   "source": [
    "del d['kim']"
   ]
  },
  {
   "cell_type": "code",
   "execution_count": 103,
   "id": "dd3bee9d",
   "metadata": {},
   "outputs": [
    {
     "data": {
      "text/plain": [
       "{'han': 3}"
      ]
     },
     "execution_count": 103,
     "metadata": {},
     "output_type": "execute_result"
    }
   ],
   "source": [
    "d"
   ]
  },
  {
   "cell_type": "code",
   "execution_count": 104,
   "id": "4f81cd77",
   "metadata": {},
   "outputs": [],
   "source": [
    "d.clear()"
   ]
  },
  {
   "cell_type": "markdown",
   "id": "3e43ee37",
   "metadata": {},
   "source": [
    "### 딕셔너리 실습"
   ]
  },
  {
   "cell_type": "code",
   "execution_count": 113,
   "id": "90860927",
   "metadata": {},
   "outputs": [
    {
     "name": "stdout",
     "output_type": "stream",
     "text": [
      "python\n"
     ]
    }
   ],
   "source": [
    "s_input = input()"
   ]
  },
  {
   "cell_type": "code",
   "execution_count": 114,
   "id": "96408675",
   "metadata": {},
   "outputs": [],
   "source": [
    "dic = {}\n"
   ]
  },
  {
   "cell_type": "code",
   "execution_count": 115,
   "id": "9283492f",
   "metadata": {},
   "outputs": [
    {
     "name": "stdout",
     "output_type": "stream",
     "text": [
      "p\n",
      "y\n",
      "t\n",
      "h\n",
      "o\n",
      "n\n"
     ]
    }
   ],
   "source": [
    "for c in s_input:\n",
    "    print(c)"
   ]
  },
  {
   "cell_type": "code",
   "execution_count": 121,
   "id": "2b321919",
   "metadata": {},
   "outputs": [],
   "source": [
    "dd = 0\n",
    "\n",
    "for qqq in s_input:\n",
    "    if qqq in s_input:\n",
    "        d[qqq] = 1\n",
    "        "
   ]
  },
  {
   "cell_type": "code",
   "execution_count": 122,
   "id": "686d8a7b",
   "metadata": {},
   "outputs": [
    {
     "data": {
      "text/plain": [
       "{}"
      ]
     },
     "execution_count": 122,
     "metadata": {},
     "output_type": "execute_result"
    }
   ],
   "source": [
    "dic"
   ]
  },
  {
   "cell_type": "code",
   "execution_count": 128,
   "id": "ce1cddf3",
   "metadata": {},
   "outputs": [
    {
     "name": "stdout",
     "output_type": "stream",
     "text": [
      "Enter a sentence: python p\n"
     ]
    },
    {
     "data": {
      "text/plain": [
       "{'p': 2, 'y': 1, 't': 1, 'h': 1, 'o': 1, 'n': 1, ' ': 1}"
      ]
     },
     "execution_count": 128,
     "metadata": {},
     "output_type": "execute_result"
    }
   ],
   "source": [
    "s = input(\"Enter a sentence: \")\n",
    "\n",
    "d = {}\n",
    "\n",
    "for c in s:\n",
    "    if c in d:\n",
    "        d[c] += 1\n",
    "    else:\n",
    "        d[c] = 1\n",
    "d        "
   ]
  },
  {
   "cell_type": "code",
   "execution_count": 132,
   "id": "5018596a",
   "metadata": {},
   "outputs": [
    {
     "name": "stdout",
     "output_type": "stream",
     "text": [
      "Enter a sentence: ASDSAFD\n"
     ]
    },
    {
     "data": {
      "text/plain": [
       "{'A': 2, 'S': 2, 'D': 2, 'F': 1}"
      ]
     },
     "execution_count": 132,
     "metadata": {},
     "output_type": "execute_result"
    }
   ],
   "source": [
    "s = input(\"Enter a sentence: \")\n",
    "\n",
    "d = {}\n",
    "\n",
    "for c in s:\n",
    "     d[c] = s.count(c)\n",
    "d        "
   ]
  },
  {
   "cell_type": "markdown",
   "id": "156eb00c",
   "metadata": {},
   "source": [
    "# 함수와 모듈"
   ]
  },
  {
   "cell_type": "markdown",
   "id": "f25594ab",
   "metadata": {},
   "source": [
    "### 함수"
   ]
  },
  {
   "cell_type": "code",
   "execution_count": 133,
   "id": "57f3e4d5",
   "metadata": {},
   "outputs": [
    {
     "name": "stdout",
     "output_type": "stream",
     "text": [
      "3\n",
      "4\n"
     ]
    },
    {
     "data": {
      "text/plain": [
       "7"
      ]
     },
     "execution_count": 133,
     "metadata": {},
     "output_type": "execute_result"
    }
   ],
   "source": [
    "def add(a,b) :\n",
    "    result = a + b\n",
    "    return result\n",
    "\n",
    "a = int(input())\n",
    "b = int(input())\n",
    "\n",
    "add(a,b)\n"
   ]
  },
  {
   "cell_type": "code",
   "execution_count": 134,
   "id": "84fb3629",
   "metadata": {},
   "outputs": [],
   "source": [
    "def add_and_mul(a,b):\n",
    "    return (a+b, a*b)"
   ]
  },
  {
   "cell_type": "code",
   "execution_count": 135,
   "id": "284c6127",
   "metadata": {},
   "outputs": [
    {
     "name": "stdout",
     "output_type": "stream",
     "text": [
      "7\n",
      "12\n"
     ]
    }
   ],
   "source": [
    "add_res, mul_res = add_and_mul(3, 4)\n",
    "print(add_res)\n",
    "print(mul_res)"
   ]
  },
  {
   "cell_type": "markdown",
   "id": "4810bc68",
   "metadata": {},
   "source": [
    "### 실습 1"
   ]
  },
  {
   "cell_type": "code",
   "execution_count": 161,
   "id": "785aec58",
   "metadata": {},
   "outputs": [
    {
     "name": "stdout",
     "output_type": "stream",
     "text": [
      "6 14\n",
      "6 14\n"
     ]
    }
   ],
   "source": [
    "def my_len(x) :\n",
    "    length = 0\n",
    "    for i in x:\n",
    "        length += 1\n",
    "    return length \n",
    "\n",
    "a = [5,5,6,7,8,3]\n",
    "b = 'Life is short.'\n",
    "print(len(a), len(b)) \n",
    "print(my_len(a), my_len(b)) "
   ]
  },
  {
   "cell_type": "markdown",
   "id": "1811ef2c",
   "metadata": {},
   "source": [
    "### 실습 2"
   ]
  },
  {
   "cell_type": "code",
   "execution_count": 163,
   "id": "3073bd71",
   "metadata": {},
   "outputs": [
    {
     "name": "stdout",
     "output_type": "stream",
     "text": [
      "2\n",
      "3\n"
     ]
    },
    {
     "data": {
      "text/plain": [
       "6"
      ]
     },
     "execution_count": 163,
     "metadata": {},
     "output_type": "execute_result"
    }
   ],
   "source": [
    "def mult(a,b) :\n",
    "    qq = 1\n",
    "    for i in range(a,b+1):\n",
    "        qq = qq * i\n",
    "    return qq\n",
    "\n",
    "a = int(input())\n",
    "b = int(input())\n",
    "mult(a,b)"
   ]
  },
  {
   "cell_type": "markdown",
   "id": "ad56b2b1",
   "metadata": {},
   "source": [
    "### 실습 3"
   ]
  },
  {
   "cell_type": "code",
   "execution_count": 160,
   "id": "ed8636c2",
   "metadata": {},
   "outputs": [
    {
     "name": "stdout",
     "output_type": "stream",
     "text": [
      "7 -9\n",
      "1 -1\n"
     ]
    }
   ],
   "source": [
    "def sum_pos_neg(l):\n",
    "    plus = 0\n",
    "    minus = 0\n",
    "    for i in l :\n",
    "        if i >= 0 :\n",
    "            plus += i\n",
    "        else :\n",
    "            minus += i\n",
    "    return plus, minus\n",
    "\n",
    "\n",
    "possum,negsum = sum_pos_neg([3,4,-6,-3])\n",
    "print(possum,negsum) # 7 -9\n",
    "mylist=[0,0,0,0,0,0,0,0,0,1,-1]\n",
    "possum2,negsum2 = sum_pos_neg(mylist)\n",
    "print(possum2,negsum2) # 1 -1"
   ]
  },
  {
   "cell_type": "code",
   "execution_count": 169,
   "id": "95efbc4d",
   "metadata": {},
   "outputs": [
    {
     "data": {
      "text/plain": [
       "2"
      ]
     },
     "execution_count": 169,
     "metadata": {},
     "output_type": "execute_result"
    }
   ],
   "source": [
    "def count_even(*n):\n",
    "    cnt = 0\n",
    "    for v in n:\n",
    "        if v % 2 == 0:\n",
    "            cnt += 1\n",
    "    return cnt\n",
    "\n",
    "count_even(1,2,3,4,5)"
   ]
  },
  {
   "cell_type": "code",
   "execution_count": 167,
   "id": "575e329c",
   "metadata": {},
   "outputs": [
    {
     "ename": "SyntaxError",
     "evalue": "incomplete input (3934150850.py, line 1)",
     "output_type": "error",
     "traceback": [
      "\u001b[0;36m  Cell \u001b[0;32mIn[167], line 1\u001b[0;36m\u001b[0m\n\u001b[0;31m    def f1(a, *b): # 정상\u001b[0m\n\u001b[0m                       ^\u001b[0m\n\u001b[0;31mSyntaxError\u001b[0m\u001b[0;31m:\u001b[0m incomplete input\n"
     ]
    }
   ],
   "source": []
  },
  {
   "cell_type": "markdown",
   "id": "35112777",
   "metadata": {},
   "source": [
    "### 실습4"
   ]
  },
  {
   "cell_type": "code",
   "execution_count": 200,
   "id": "cba5309a",
   "metadata": {},
   "outputs": [
    {
     "name": "stdout",
     "output_type": "stream",
     "text": [
      "[1.5, 1.5] [7.5, 5.5] [4.13, 2.72]\n"
     ]
    }
   ],
   "source": [
    "def vector_sum(vector, *vectors):\n",
    "    v_sum1 = vector[0]\n",
    "    v_sum2 = vector[1]\n",
    "    for i in vectors:\n",
    "        v_sum1 = v_sum1 + i[0]\n",
    "        v_sum2 = v_sum2 + i[1]\n",
    "    vvv = [v_sum1, v_sum2]\n",
    "    return vvv\n",
    "\n",
    "\n",
    "v1=[0, 1]\n",
    "v2=[0.5, 0.5]\n",
    "v3=[1, 0]\n",
    "v4=[6, 4]\n",
    "v5=[3.13, 2.72]\n",
    "m1 = vector_sum(v1, v2, v3)  # 여기서 매개변수 vector에 대응하는 값이 v1 이고, 매개변수 *vectors 에 대응하는 값은 v2, v3 이 된다.\n",
    "m2 = vector_sum(v1, v2, v3, v4)\n",
    "m3 = vector_sum(v3, v5)\n",
    "print(m1,m2,m3)\n"
   ]
  },
  {
   "cell_type": "code",
   "execution_count": 216,
   "id": "585a5282",
   "metadata": {},
   "outputs": [
    {
     "name": "stdout",
     "output_type": "stream",
     "text": [
      "[1.5, 1.5] [7.5, 5.5] [4.13, 2.72]\n"
     ]
    }
   ],
   "source": [
    "def vector_sum(vector, *vectors):\n",
    "    result = vector[:] # => 깊은 복사\n",
    "    #result = [vector[0],vector[1]]\n",
    "    #result = vector  => 얕은 복사\n",
    "    \n",
    "    for i in vectors:\n",
    "        result[0] += i[0]\n",
    "        result[1] += i[1]\n",
    "\n",
    "    return result\n",
    "\n",
    "v1=[0, 1]\n",
    "v2=[0.5, 0.5]\n",
    "v3=[1, 0]\n",
    "v4=[6, 4]\n",
    "v5=[3.13, 2.72]\n",
    "m1 = vector_sum(v1, v2, v3)  # 여기서 매개변수 vector에 대응하는 값이 v1 이고, 매개변수 *vectors 에 대응하는 값은 v2, v3 이 된다.\n",
    "m2 = vector_sum(v1, v2, v3, v4)\n",
    "m3 = vector_sum(v3, v5)\n",
    "print(m1,m2,m3)"
   ]
  },
  {
   "cell_type": "code",
   "execution_count": 212,
   "id": "bcdc3c14",
   "metadata": {},
   "outputs": [
    {
     "name": "stdout",
     "output_type": "stream",
     "text": [
      "My name is Gildong Hong.\n",
      "My name is Gildong Kim.\n"
     ]
    }
   ],
   "source": [
    "def print_name(first, second='Kim'): #second 변수 기본값 'Kim'\n",
    "    print ('My name is', first, second + '.')\n",
    "\n",
    "#함수 호출\n",
    "\n",
    "print_name('Gildong', 'Hong')\n",
    "print_name('Gildong') #second 변수에 대응되는 값을 주지 않았으므로\n",
    "\n",
    "#정의할 때 지정한 'Kim'을 가짐"
   ]
  },
  {
   "cell_type": "code",
   "execution_count": 213,
   "id": "4dce84c7",
   "metadata": {},
   "outputs": [
    {
     "name": "stdout",
     "output_type": "stream",
     "text": [
      "60\n"
     ]
    }
   ],
   "source": [
    "def calc(x, y=0, z=0) :\n",
    "    return x+y+z\n",
    "\n",
    "result = calc(y=20, x=10, z=30) # 값 넣어줄 때 미리 지정해서 넣으면 매개변수 순서 상관 없음\n",
    "\n",
    "# calc(10, 30, y=20) => 이렇게 넣으면, 이미 y값에 30 들어갔는데, y=20이 또 들어가니까 충돌한다.\n",
    "\n",
    "print(result)\n"
   ]
  },
  {
   "cell_type": "code",
   "execution_count": 219,
   "id": "40aa7a90",
   "metadata": {},
   "outputs": [
    {
     "name": "stdout",
     "output_type": "stream",
     "text": [
      "Output hi\n",
      "h123213i\n"
     ]
    }
   ],
   "source": [
    "print(\"Output\", end=\" \") # 줄 바꿈 막아줌\n",
    "print(\"hi\")\n",
    "print(\"h123213i\")\n",
    "\n"
   ]
  },
  {
   "cell_type": "code",
   "execution_count": 224,
   "id": "3d453e23",
   "metadata": {},
   "outputs": [
    {
     "name": "stdout",
     "output_type": "stream",
     "text": [
      "{1, 3, 45, 6}\n",
      "[1, 3, 6, 45]\n",
      "[45, 6, 3, 1]\n"
     ]
    }
   ],
   "source": [
    "l = {1,45,6,3}\n",
    "sorted_list = sorted(l, reverse=True)\n",
    "\n",
    "print(l)\n",
    "print(sorted(l))\n",
    "print(sorted_list)"
   ]
  },
  {
   "cell_type": "markdown",
   "id": "f19fb108",
   "metadata": {},
   "source": [
    "### 실습 5\n"
   ]
  },
  {
   "cell_type": "code",
   "execution_count": 226,
   "id": "b90afaaa",
   "metadata": {},
   "outputs": [
    {
     "name": "stdout",
     "output_type": "stream",
     "text": [
      "[1, 1, 2, 2, 3, 5, 9]\n",
      "[0, 4, 6, 9]\n",
      "[0, 0]\n"
     ]
    }
   ],
   "source": [
    "def merge_list(list1=[0], list2=[0]):\n",
    "    list3 = list1 + list2\n",
    "    return sorted((list3))\n",
    "\n",
    " \n",
    "l = [3, 5, 9, 1, 2]\n",
    "ml1 = merge_list(l,[2,1])\n",
    "ml2 = merge_list([6,9,4])\n",
    "ml3 = merge_list()\n",
    "print(ml1) # [1, 1, 2, 2, 3, 5, 9]\n",
    "print(ml2) # [0, 4, 6, 9]\n",
    "print(ml3) # [0, 0]    \n"
   ]
  },
  {
   "cell_type": "code",
   "execution_count": 228,
   "id": "fa1dba77",
   "metadata": {},
   "outputs": [
    {
     "data": {
      "text/plain": [
       "3628800"
      ]
     },
     "execution_count": 228,
     "metadata": {},
     "output_type": "execute_result"
    }
   ],
   "source": [
    "import math\n",
    "math.factorial(10)"
   ]
  },
  {
   "cell_type": "code",
   "execution_count": 230,
   "id": "8f631e78",
   "metadata": {},
   "outputs": [
    {
     "data": {
      "text/plain": [
       "3628800"
      ]
     },
     "execution_count": 230,
     "metadata": {},
     "output_type": "execute_result"
    }
   ],
   "source": [
    "from math import factorial\n",
    "factorial(10)"
   ]
  },
  {
   "cell_type": "code",
   "execution_count": 231,
   "id": "7e62acec",
   "metadata": {},
   "outputs": [
    {
     "data": {
      "text/plain": [
       "120"
      ]
     },
     "execution_count": 231,
     "metadata": {},
     "output_type": "execute_result"
    }
   ],
   "source": [
    "factorial(5)"
   ]
  },
  {
   "cell_type": "code",
   "execution_count": 233,
   "id": "e5ab1438",
   "metadata": {},
   "outputs": [],
   "source": [
    "import random"
   ]
  },
  {
   "cell_type": "code",
   "execution_count": 239,
   "id": "0f6926ed",
   "metadata": {},
   "outputs": [
    {
     "data": {
      "text/plain": [
       "'e'"
      ]
     },
     "execution_count": 239,
     "metadata": {},
     "output_type": "execute_result"
    }
   ],
   "source": [
    "random.choice('abcdefg')"
   ]
  },
  {
   "cell_type": "code",
   "execution_count": 240,
   "id": "94122487",
   "metadata": {},
   "outputs": [
    {
     "data": {
      "text/plain": [
       "8"
      ]
     },
     "execution_count": 240,
     "metadata": {},
     "output_type": "execute_result"
    }
   ],
   "source": [
    "random.randint(3, 10)"
   ]
  },
  {
   "cell_type": "code",
   "execution_count": 241,
   "id": "fc404d60",
   "metadata": {},
   "outputs": [
    {
     "name": "stdout",
     "output_type": "stream",
     "text": [
      "[4, 5, 2, 3, 1]\n"
     ]
    }
   ],
   "source": [
    "Ls = [1,2,3,4,5]\n",
    "random.shuffle(Ls)\n",
    "print(Ls)"
   ]
  },
  {
   "cell_type": "code",
   "execution_count": 245,
   "id": "f0985f34",
   "metadata": {},
   "outputs": [
    {
     "data": {
      "text/plain": [
       "[1, 3, 4]"
      ]
     },
     "execution_count": 245,
     "metadata": {},
     "output_type": "execute_result"
    }
   ],
   "source": [
    "random.sample([1, 2, 3, 4, 5, 6], 3)"
   ]
  },
  {
   "cell_type": "markdown",
   "id": "1d0fbb7b",
   "metadata": {},
   "source": [
    "### 실습 6"
   ]
  },
  {
   "cell_type": "code",
   "execution_count": 284,
   "id": "7319c363",
   "metadata": {},
   "outputs": [
    {
     "name": "stdout",
     "output_type": "stream",
     "text": [
      "** 로또 번호 자동 기입을 시작합니다 **\n",
      "1 번째 자동 기입 ==>  [4, 15, 15, 40, 42, 42]\n",
      "2 번째 자동 기입 ==>  [1, 12, 24, 30, 30, 43]\n",
      "3 번째 자동 기입 ==>  [8, 18, 20, 43, 44, 44]\n",
      "4 번째 자동 기입 ==>  [17, 20, 29, 32, 35, 35]\n",
      "5 번째 자동 기입 ==>  [7, 13, 17, 26, 29, 39]\n"
     ]
    }
   ],
   "source": [
    "import random\n",
    "\n",
    "print(\"** 로또 번호 자동 기입을 시작합니다 **\")\n",
    "\n",
    "def randoming(length):\n",
    "    random_num = []\n",
    "    for j in range(1,length):\n",
    "        random_num.append(random.randint(1, 46)) \n",
    "        random_num = sorted(random_num)\n",
    "    return random_num\n",
    "\n",
    "for i in range(1,6):\n",
    "    \n",
    "    print(i,\"번째 자동 기입 ==> \" , randoming(7))"
   ]
  },
  {
   "cell_type": "code",
   "execution_count": 285,
   "id": "0a813485",
   "metadata": {},
   "outputs": [
    {
     "name": "stdout",
     "output_type": "stream",
     "text": [
      "** 로또 번호 자동 기입을 시작합니다 **\n"
     ]
    }
   ],
   "source": [
    "import random\n",
    "\n",
    "print(\"** 로또 번호 자동 기입을 시작합니다 **\")\n",
    "\n"
   ]
  },
  {
   "cell_type": "markdown",
   "id": "5d0fc14f",
   "metadata": {},
   "source": [
    "### 실습 7"
   ]
  },
  {
   "cell_type": "code",
   "execution_count": 275,
   "id": "eff9b265",
   "metadata": {},
   "outputs": [
    {
     "name": "stdout",
     "output_type": "stream",
     "text": [
      "1\n",
      "9\n",
      "[3, 5, 2]\n"
     ]
    }
   ],
   "source": [
    "def get_min_max(l):\n",
    "    \n",
    "    min1 = min(l)\n",
    "    max1 = max(l)\n",
    "    \n",
    "    l.remove(min1)\n",
    "    l.remove(max1)\n",
    "    \n",
    "    return min1, max1\n",
    "    \n",
    "    \n",
    "l = [3, 5, 9, 1, 2]\n",
    "min_val, max_val = get_min_max(l)\n",
    "\n",
    "print(min_val)\n",
    "print(max_val)\n",
    "print(l)"
   ]
  },
  {
   "cell_type": "markdown",
   "id": "2afda2d7",
   "metadata": {},
   "source": [
    "### 실습 8"
   ]
  },
  {
   "cell_type": "code",
   "execution_count": 282,
   "id": "a72e0b92",
   "metadata": {},
   "outputs": [
    {
     "name": "stdout",
     "output_type": "stream",
     "text": [
      "{'a': 3, 'b': 3, 'd': 7, 'e': 9, 'c': 4}\n"
     ]
    }
   ],
   "source": [
    "from collections import Counter\n",
    "\n",
    "def comb_dict(d1, d2):\n",
    "    result = dict(Counter(d1)+Counter(d2))\n",
    "    return result\n",
    "    \n",
    "d1 = {'a': 1, 'b': 3, 'd': 7, 'e': 8}\n",
    "d2 = {'a': 2, 'c': 4, 'e': 1}\n",
    "d3 = comb_dict(d1, d2)\n",
    "print(d3)"
   ]
  },
  {
   "cell_type": "code",
   "execution_count": 286,
   "id": "36c2928e",
   "metadata": {},
   "outputs": [
    {
     "name": "stdout",
     "output_type": "stream",
     "text": [
      "{'a': 3, 'b': 3, 'd': 7, 'e': 9, 'c': 4}\n"
     ]
    }
   ],
   "source": [
    "def comb_dict(d1, d2):\n",
    "    d = d1.copy()\n",
    "    \n",
    "    for k in d2.keys():\n",
    "        if k in d:\n",
    "            d[k] += d2[k]\n",
    "        else:\n",
    "            d[k] = d2[k]\n",
    "    return d\n",
    "    \n",
    "d1 = {'a': 1, 'b': 3, 'd': 7, 'e': 8}\n",
    "d2 = {'a': 2, 'c': 4, 'e': 1}\n",
    "d3 = comb_dict(d1, d2)\n",
    "print(d3)"
   ]
  },
  {
   "cell_type": "code",
   "execution_count": 292,
   "id": "d2a9f42e",
   "metadata": {},
   "outputs": [
    {
     "name": "stdout",
     "output_type": "stream",
     "text": [
      "{'a': 3, 'b': 3, 'd': 7, 'e': 9, 'c': 4}\n"
     ]
    }
   ],
   "source": [
    "d1 = {'a': 1, 'b': 3, 'd': 7, 'e': 8}\n",
    "d2 = {'a': 2, 'c': 4, 'e': 1}\n",
    "\n",
    "d = d1.copy()\n",
    "\n",
    "d['a'] += d2['a']\n",
    "d['c'] = d2['c']\n",
    "d['e'] += d2['e']\n",
    "\n",
    "print(d)\n"
   ]
  },
  {
   "cell_type": "markdown",
   "id": "0993bf4e",
   "metadata": {},
   "source": [
    "### 실습 9\n"
   ]
  },
  {
   "cell_type": "code",
   "execution_count": 302,
   "id": "e29553b3",
   "metadata": {},
   "outputs": [
    {
     "name": "stdout",
     "output_type": "stream",
     "text": [
      "4\n",
      "300\n",
      "오류발생\n"
     ]
    }
   ],
   "source": [
    "def diff(*b):\n",
    "    if len(b) < 2:\n",
    "        print(\"오류발생\")\n",
    "        return\n",
    "    maximum = max(b)\n",
    "    minimum = min(b)\n",
    "    return maximum - minimum\n",
    "\n",
    "print(diff(1,2,3,4,5))\n",
    "print(diff(-100, 200))\n",
    "diff(1)"
   ]
  },
  {
   "cell_type": "code",
   "execution_count": 303,
   "id": "67036a84",
   "metadata": {},
   "outputs": [
    {
     "name": "stdout",
     "output_type": "stream",
     "text": [
      "4\n",
      "300\n",
      "오류발생\n"
     ]
    }
   ],
   "source": [
    "def diff(*num):\n",
    "    if len(num)<2 :\n",
    "        print(\"오류발생\")\n",
    "        return\n",
    "    else:\n",
    "        result = max(num)-min(num)\n",
    "    return result\n",
    "    \n",
    "    \n",
    "print(diff(1,2,3,4,5))\n",
    "print(diff(-100, 200))\n",
    "diff(1) # 오류발생!"
   ]
  },
  {
   "cell_type": "code",
   "execution_count": null,
   "id": "90f2a664",
   "metadata": {},
   "outputs": [],
   "source": []
  }
 ],
 "metadata": {
  "kernelspec": {
   "display_name": "Python 3 (ipykernel)",
   "language": "python",
   "name": "python3"
  },
  "language_info": {
   "codemirror_mode": {
    "name": "ipython",
    "version": 3
   },
   "file_extension": ".py",
   "mimetype": "text/x-python",
   "name": "python",
   "nbconvert_exporter": "python",
   "pygments_lexer": "ipython3",
   "version": "3.10.9"
  }
 },
 "nbformat": 4,
 "nbformat_minor": 5
}
