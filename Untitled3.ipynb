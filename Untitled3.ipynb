{
 "cells": [
  {
   "cell_type": "code",
   "execution_count": 6,
   "id": "44fbccb2",
   "metadata": {},
   "outputs": [],
   "source": [
    "import random\n",
    "import pandas as pd\n"
   ]
  },
  {
   "cell_type": "code",
   "execution_count": 15,
   "id": "f78d7a54",
   "metadata": {},
   "outputs": [
    {
     "name": "stdout",
     "output_type": "stream",
     "text": [
      "[(0, 2), (1, 2), (2, 0), (3, 1)]\n"
     ]
    }
   ],
   "source": [
    "path1_data = []\n",
    "path2_data = []\n",
    "path3_data = []\n",
    "\n",
    "for i in range(4):\n",
    "    options = [0, 1, 2]\n",
    "    rand_num1 = random.choice(options)\n",
    "    options.remove(rand_num1)\n",
    "    rand_num2 = random.choice(options)\n",
    "    options.remove(rand_num2)\n",
    "    rand_num3 = options[0]\n",
    "\n",
    "    path1_data.append((i, rand_num1))\n",
    "    path2_data.append((i, rand_num2))\n",
    "    path3_data.append((i, rand_num3))\n",
    "\n",
    "print(path1_data)"
   ]
  },
  {
   "cell_type": "code",
   "execution_count": 16,
   "id": "13dfbd5e",
   "metadata": {},
   "outputs": [
    {
     "name": "stdout",
     "output_type": "stream",
     "text": [
      "   우선순위 Group1 Group2 Group3    불량률\n",
      "0     1   2201                0.034\n"
     ]
    }
   ],
   "source": [
    "import pandas as pd\n",
    "\n",
    "result1 = ''\n",
    "result2 = ''\n",
    "result3 = ''\n",
    "\n",
    "for row in path1_data:\n",
    "    result1 += str(row[1])\n",
    "\n",
    "data = {\n",
    "    '우선순위': [1],\n",
    "    'Group1': [result1],\n",
    "    'Group2': [result2],\n",
    "    'Group3': [result3],\n",
    "    '불량률': [0.034]\n",
    "}\n",
    "\n",
    "df = pd.DataFrame(data)\n",
    "print(df)\n"
   ]
  },
  {
   "cell_type": "code",
   "execution_count": null,
   "id": "cc593f47",
   "metadata": {},
   "outputs": [],
   "source": []
  }
 ],
 "metadata": {
  "kernelspec": {
   "display_name": "Python 3 (ipykernel)",
   "language": "python",
   "name": "python3"
  },
  "language_info": {
   "codemirror_mode": {
    "name": "ipython",
    "version": 3
   },
   "file_extension": ".py",
   "mimetype": "text/x-python",
   "name": "python",
   "nbconvert_exporter": "python",
   "pygments_lexer": "ipython3",
   "version": "3.8.16"
  }
 },
 "nbformat": 4,
 "nbformat_minor": 5
}
