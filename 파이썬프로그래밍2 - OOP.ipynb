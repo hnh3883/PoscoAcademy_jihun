{
 "cells": [
  {
   "cell_type": "code",
   "execution_count": 1,
   "id": "2349d52b",
   "metadata": {},
   "outputs": [
    {
     "name": "stdout",
     "output_type": "stream",
     "text": [
      "0\n"
     ]
    }
   ],
   "source": [
    "balance = 0\n",
    "\n",
    "def deposit(amount):\n",
    "    global balance\n",
    "    balance += amount\n",
    "    return balance\n",
    "\n",
    "def withdraw(amount) :\n",
    "    global balance\n",
    "    balance -= amount\n",
    "    return balance\n",
    "\n",
    "print(balance)\n"
   ]
  },
  {
   "cell_type": "markdown",
   "id": "fac33a78",
   "metadata": {},
   "source": [
    "### 클래스\n",
    "\n",
    "클래스는 설계도이고, 인스턴스는 그것을 따라만든 결과물"
   ]
  },
  {
   "cell_type": "code",
   "execution_count": 2,
   "id": "00e0b61b",
   "metadata": {},
   "outputs": [],
   "source": [
    "# 클래스는 2개의 어트리뷰트를 가진다. (데이터 어트리뷰트, 메서드 어트리뷰트)\n",
    "\n",
    "class Dog:\n",
    "\n",
    "    # 데이터 어트리뷰트\n",
    "    name = 'Mongja'  \n",
    "    \n",
    "    # 메서드 어트리뷰트\n",
    "    def bark(self): # 첫번째 인자는 무조건 포함되어야 한다. 빈괄호로 선언하면 안됨 (관습적으로 self로 많이 선언)\n",
    "        return 'wal wal'\n",
    "    \n"
   ]
  },
  {
   "cell_type": "code",
   "execution_count": 3,
   "id": "9ed6d065",
   "metadata": {},
   "outputs": [],
   "source": [
    "dog1 = Dog() # dog1은 인스턴스"
   ]
  },
  {
   "cell_type": "code",
   "execution_count": 4,
   "id": "94dde156",
   "metadata": {},
   "outputs": [
    {
     "data": {
      "text/plain": [
       "'Mongja'"
      ]
     },
     "execution_count": 4,
     "metadata": {},
     "output_type": "execute_result"
    }
   ],
   "source": [
    "dog1.name"
   ]
  },
  {
   "cell_type": "code",
   "execution_count": 5,
   "id": "c64e2b89",
   "metadata": {},
   "outputs": [
    {
     "data": {
      "text/plain": [
       "'wal wal'"
      ]
     },
     "execution_count": 5,
     "metadata": {},
     "output_type": "execute_result"
    }
   ],
   "source": [
    "dog1.bark() # 인스턴스 참조\n",
    "\n",
    "# () 안에 인자를 아무것도 안적어도, 자기자신이 인자로 넘어감\n",
    "# dog1이 인자로 넘어간 상황임"
   ]
  },
  {
   "cell_type": "code",
   "execution_count": 6,
   "id": "d604be12",
   "metadata": {},
   "outputs": [
    {
     "data": {
      "text/plain": [
       "'Mongja'"
      ]
     },
     "execution_count": 6,
     "metadata": {},
     "output_type": "execute_result"
    }
   ],
   "source": [
    "dog1.name"
   ]
  },
  {
   "cell_type": "code",
   "execution_count": 7,
   "id": "221123f3",
   "metadata": {},
   "outputs": [],
   "source": [
    "dog1.age = 2"
   ]
  },
  {
   "cell_type": "code",
   "execution_count": 8,
   "id": "0fbe7eda",
   "metadata": {},
   "outputs": [
    {
     "data": {
      "text/plain": [
       "2"
      ]
     },
     "execution_count": 8,
     "metadata": {},
     "output_type": "execute_result"
    }
   ],
   "source": [
    "dog1.age"
   ]
  },
  {
   "cell_type": "markdown",
   "id": "65dec9cc",
   "metadata": {},
   "source": [
    "### 특수 메서드\n",
    "\n",
    "특수메서드는 앞뒤로 언더바(__) 2개 필요\n",
    "\n",
    "- 클래스를 만들면 __init__ 메서드가 자동으로 호출됨\n",
    "- __init__ 메서드는 return 값이 없다"
   ]
  },
  {
   "cell_type": "code",
   "execution_count": 9,
   "id": "b2131d42",
   "metadata": {},
   "outputs": [],
   "source": [
    "class Sample :\n",
    "    def __init__(self):  # 인자가 필요해서 self 인자가 넣어줌\n",
    "        print(\"init 함수가 호출되었네요!\")\n",
    "    "
   ]
  },
  {
   "cell_type": "code",
   "execution_count": 10,
   "id": "59cc4ba1",
   "metadata": {},
   "outputs": [
    {
     "name": "stdout",
     "output_type": "stream",
     "text": [
      "init 함수가 호출되었네요!\n"
     ]
    }
   ],
   "source": [
    "a = Sample()\n",
    "# 자동적으로 init 함수가 호출되어서, Sample 클래스만 불러와도 init 함수가 실행되어 프린트문이 출력됨"
   ]
  },
  {
   "cell_type": "code",
   "execution_count": 11,
   "id": "2894c766",
   "metadata": {},
   "outputs": [],
   "source": [
    "class Building:\n",
    "    name = '공학1동'\n",
    "    h = 3\n",
    "    elev = True\n",
    "    \n",
    "    def get_info(self):\n",
    "        print(\"건물이름=\", self.name)  # 인자를 받아서 self.~~ 으로 사용\n",
    "        print(\"건물층수=\", self.h)\n",
    "        print(\"건물이름=\", self.elev)\n",
    "                "
   ]
  },
  {
   "cell_type": "code",
   "execution_count": 12,
   "id": "61e349d2",
   "metadata": {},
   "outputs": [],
   "source": [
    "a = Building()\n",
    "b = Building()"
   ]
  },
  {
   "cell_type": "code",
   "execution_count": 13,
   "id": "9483018e",
   "metadata": {},
   "outputs": [
    {
     "name": "stdout",
     "output_type": "stream",
     "text": [
      "건물이름= 공학1동\n",
      "건물층수= 3\n",
      "건물이름= True\n",
      "\n",
      "건물이름= 공학1동\n",
      "건물층수= 3\n",
      "건물이름= True\n"
     ]
    }
   ],
   "source": [
    "a.get_info() # self에는 'a' 가 인자로 넘어감\n",
    "print()\n",
    "b.get_info()"
   ]
  },
  {
   "cell_type": "markdown",
   "id": "d21e253c",
   "metadata": {},
   "source": [
    "서로 다른 빌딩 값을 가지도록 하려면, init 함수를 이용"
   ]
  },
  {
   "cell_type": "code",
   "execution_count": 14,
   "id": "8232281b",
   "metadata": {},
   "outputs": [],
   "source": [
    "class Building:\n",
    "    def __init__(self, name=\"공학1동\", h=3, elev=True): # 디폴트 인자값 설정\n",
    "        self.name = name  # self로 인스턴스 값을 만들어서 그 값을 name에 값을 넣어줌\n",
    "        self.h = h\n",
    "        self.elev = elev\n",
    "            \n",
    "    def get_info(self):\n",
    "        print(\"건물이름=\", self.name)  # 인자를 받아서 self.~~ 으로 사용\n",
    "        print(\"건물층수=\", self.h)\n",
    "        print(\"건물이름=\", self.elev)"
   ]
  },
  {
   "cell_type": "code",
   "execution_count": 15,
   "id": "d22d0126",
   "metadata": {},
   "outputs": [],
   "source": [
    "a = Building() # self에는 'a' 가 인자로 넘어가고, 나머지는 디폴트 인자값으로 나옴\n",
    "b = Building(\"공학2동\",10, True)  # self에 대해서는 자동으로 넘어가기 때문에, 나머지 인자들만 넘겨주면 됨\n",
    "# self에는 'b'가 넘어가고, name에는 \"공학2동\", h에는 10, elev에는 True 값이 받아지게 됨 "
   ]
  },
  {
   "cell_type": "code",
   "execution_count": 16,
   "id": "e9187a2b",
   "metadata": {},
   "outputs": [
    {
     "name": "stdout",
     "output_type": "stream",
     "text": [
      "건물이름= 공학1동\n",
      "건물층수= 3\n",
      "건물이름= True\n",
      "\n",
      "건물이름= 공학2동\n",
      "건물층수= 10\n",
      "건물이름= True\n"
     ]
    }
   ],
   "source": [
    "a.get_info() # self에는 'a' 가 인자로 넘어감\n",
    "print()\n",
    "b.get_info()"
   ]
  },
  {
   "cell_type": "markdown",
   "id": "69a6eb3c",
   "metadata": {},
   "source": [
    "### 클래스 실습\n",
    "\n",
    "클래스 내부의 변수나 함수에 접근하는 것을 의미한다.\n",
    "\n",
    "\"클래스이름.어트리뷰트\" 로 접근이 가능하다."
   ]
  },
  {
   "cell_type": "code",
   "execution_count": 17,
   "id": "1f1a2231",
   "metadata": {},
   "outputs": [],
   "source": [
    "class WhoAreYou:\n",
    "    def __init__(self, name, age, height, weight): # 디폴트 인자값 설정\n",
    "        self.name = name  # self로 인스턴스 값을 만들어서 그 값을 name에 값을 넣어줌\n",
    "        self.age = age\n",
    "        self.height = height\n",
    "        self.weight = weight\n",
    "        \n",
    "    def age_transform(self):\n",
    "        self.age += 1\n",
    "        \n",
    "    def height_transform(self, height):\n",
    "        self.height = height\n",
    "\n",
    "    def weight_transform(self, weight):\n",
    "        self.weight = weight\n",
    "           \n",
    "    def get_info(self):\n",
    "        print(\"이름 : \", self.name)\n",
    "        print(\"나이 : \", self.age) \n",
    "        print(\"키 : \", self.height)\n",
    "        print(\"몸무게 : \", self.weight)"
   ]
  },
  {
   "cell_type": "code",
   "execution_count": 18,
   "id": "c033164b",
   "metadata": {},
   "outputs": [],
   "source": [
    "a = WhoAreYou(\"hong\", 20, 170, 60)\n",
    "b = WhoAreYou(\"han\", 26, 178, 70)"
   ]
  },
  {
   "cell_type": "code",
   "execution_count": 19,
   "id": "70973822",
   "metadata": {},
   "outputs": [
    {
     "name": "stdout",
     "output_type": "stream",
     "text": [
      "이름 :  hong\n",
      "나이 :  20\n",
      "키 :  170\n",
      "몸무게 :  60\n"
     ]
    }
   ],
   "source": [
    "a.get_info()"
   ]
  },
  {
   "cell_type": "code",
   "execution_count": 20,
   "id": "2c1ff8c2",
   "metadata": {},
   "outputs": [
    {
     "name": "stdout",
     "output_type": "stream",
     "text": [
      "이름 :  han\n",
      "나이 :  27\n",
      "키 :  190\n",
      "몸무게 :  80\n"
     ]
    }
   ],
   "source": [
    "b.age_transform()\n",
    "b.height_transform(190)\n",
    "b.weight_transform(80)\n",
    "b.get_info()"
   ]
  },
  {
   "cell_type": "markdown",
   "id": "aba33493",
   "metadata": {},
   "source": [
    "SELF : 인스턴스의 직관적인 사용 및 사용자의 편의 도모"
   ]
  },
  {
   "cell_type": "code",
   "execution_count": 21,
   "id": "08d4ee16",
   "metadata": {},
   "outputs": [],
   "source": [
    "class Dog:\n",
    "    def __init__(self, name, age):\n",
    "        self.name = name\n",
    "        self.age = age\n",
    "    \n",
    "    def print_name_age(self):\n",
    "        print(self.name, self.age)"
   ]
  },
  {
   "cell_type": "code",
   "execution_count": 22,
   "id": "40b8241d",
   "metadata": {},
   "outputs": [],
   "source": [
    "d1 = Dog(\"yomi\", 5)\n",
    "d2 = Dog(\"DangDangE\", 5)"
   ]
  },
  {
   "cell_type": "code",
   "execution_count": 23,
   "id": "fb07ae8b",
   "metadata": {},
   "outputs": [
    {
     "name": "stdout",
     "output_type": "stream",
     "text": [
      "yomi 5\n",
      "yomi 5\n"
     ]
    }
   ],
   "source": [
    "# 두 가지 방법 모두 결과는 동일\n",
    "\n",
    "d1.print_name_age()\n",
    "Dog.print_name_age(d1)"
   ]
  },
  {
   "cell_type": "markdown",
   "id": "d4a316d9",
   "metadata": {},
   "source": [
    "인스턴스 데이터 = 인스턴스가 가지는 데이터\n",
    "\n",
    "클래스 데이터 = 클래스의 모든 인스턴스가 공유하는 데이터, 메서드 어트리뷰트를 말함"
   ]
  },
  {
   "cell_type": "code",
   "execution_count": 24,
   "id": "f16ca6c3",
   "metadata": {},
   "outputs": [],
   "source": [
    "class Dog:\n",
    "    kind = 'canine'  # kind의 값의 수정은 불가능 (immutable)\n",
    "    \n",
    "    def __init__(self, name):\n",
    "        self.name = name # 인스턴스 데이터"
   ]
  },
  {
   "cell_type": "code",
   "execution_count": 25,
   "id": "6beee805",
   "metadata": {},
   "outputs": [],
   "source": [
    "d = Dog('Fido')\n",
    "e = Dog('Buddy')"
   ]
  },
  {
   "cell_type": "code",
   "execution_count": 26,
   "id": "bd15f582",
   "metadata": {},
   "outputs": [
    {
     "data": {
      "text/plain": [
       "'canine'"
      ]
     },
     "execution_count": 26,
     "metadata": {},
     "output_type": "execute_result"
    }
   ],
   "source": [
    "d.kind"
   ]
  },
  {
   "cell_type": "code",
   "execution_count": 27,
   "id": "acceabca",
   "metadata": {},
   "outputs": [
    {
     "data": {
      "text/plain": [
       "'canine'"
      ]
     },
     "execution_count": 27,
     "metadata": {},
     "output_type": "execute_result"
    }
   ],
   "source": [
    "e.kind"
   ]
  },
  {
   "cell_type": "code",
   "execution_count": 28,
   "id": "c788c67b",
   "metadata": {},
   "outputs": [
    {
     "data": {
      "text/plain": [
       "'Fido'"
      ]
     },
     "execution_count": 28,
     "metadata": {},
     "output_type": "execute_result"
    }
   ],
   "source": [
    "d.name"
   ]
  },
  {
   "cell_type": "code",
   "execution_count": 29,
   "id": "004aad26",
   "metadata": {},
   "outputs": [
    {
     "data": {
      "text/plain": [
       "'Buddy'"
      ]
     },
     "execution_count": 29,
     "metadata": {},
     "output_type": "execute_result"
    }
   ],
   "source": [
    "e.name"
   ]
  },
  {
   "cell_type": "code",
   "execution_count": 30,
   "id": "34ec0518",
   "metadata": {},
   "outputs": [],
   "source": [
    "class Dog:\n",
    "    tricks = []  # 클래스 데이터는 mutable\n",
    "    \n",
    "    def __init__(self, name):\n",
    "        self.name = name \n",
    "        \n",
    "    def add_trick(self, trick):\n",
    "        self.tricks.append(trick) "
   ]
  },
  {
   "cell_type": "code",
   "execution_count": 31,
   "id": "dc686240",
   "metadata": {},
   "outputs": [],
   "source": [
    "d = Dog('Fido')"
   ]
  },
  {
   "cell_type": "markdown",
   "id": "33a5e97b",
   "metadata": {},
   "source": [
    "### 실습문제 1"
   ]
  },
  {
   "cell_type": "code",
   "execution_count": 32,
   "id": "2057af52",
   "metadata": {},
   "outputs": [],
   "source": [
    "class BankAccount :\n",
    "    def __init__(self, balance = 0, name=\"none\"):\n",
    "        self.balance = balance\n",
    "        self.name = name\n",
    "    \n",
    "    def deposit(self, amount):\n",
    "        self.balance += amount\n",
    "    \n",
    "    def withdraw(self, amount):\n",
    "        if(self.balance >= amount):\n",
    "            self.balance -= amount\n",
    "        else:\n",
    "            print(\"잔액 부족\")\n",
    "    \n",
    "    def get_info(self):\n",
    "        \n",
    "        print(\"이름 : \",self.name)\n",
    "        print(\"잔고 : \", self.balance)\n",
    "        "
   ]
  },
  {
   "cell_type": "code",
   "execution_count": 33,
   "id": "f6f29a7f",
   "metadata": {},
   "outputs": [
    {
     "name": "stdout",
     "output_type": "stream",
     "text": [
      "이름 :  Glidong hong\n",
      "잔고 :  300\n"
     ]
    }
   ],
   "source": [
    "a = BankAccount(300, \"Glidong hong\")\n",
    "a.get_info()"
   ]
  },
  {
   "cell_type": "code",
   "execution_count": 34,
   "id": "1488e450",
   "metadata": {},
   "outputs": [
    {
     "name": "stdout",
     "output_type": "stream",
     "text": [
      "이름 :  Glidong hong\n",
      "잔고 :  1000\n"
     ]
    }
   ],
   "source": [
    "a.deposit(700)\n",
    "a.get_info()"
   ]
  },
  {
   "cell_type": "code",
   "execution_count": 35,
   "id": "be64f9f5",
   "metadata": {},
   "outputs": [
    {
     "name": "stdout",
     "output_type": "stream",
     "text": [
      "잔액 부족\n",
      "이름 :  Glidong hong\n",
      "잔고 :  1000\n"
     ]
    }
   ],
   "source": [
    "a.withdraw(1100)\n",
    "a.get_info()"
   ]
  },
  {
   "cell_type": "code",
   "execution_count": 36,
   "id": "82d3ebb0",
   "metadata": {},
   "outputs": [
    {
     "name": "stdout",
     "output_type": "stream",
     "text": [
      "이름 :  Glidong hong\n",
      "잔고 :  700\n"
     ]
    }
   ],
   "source": [
    "a.withdraw(300)\n",
    "a.get_info()"
   ]
  },
  {
   "cell_type": "markdown",
   "id": "91740745",
   "metadata": {},
   "source": [
    "### 상속"
   ]
  },
  {
   "cell_type": "code",
   "execution_count": 37,
   "id": "9906a3fe",
   "metadata": {},
   "outputs": [
    {
     "data": {
      "text/plain": [
       "[__main__.D, __main__.C, __main__.A, __main__.B, object]"
      ]
     },
     "execution_count": 37,
     "metadata": {},
     "output_type": "execute_result"
    }
   ],
   "source": [
    "class A:\n",
    "    a = 1\n",
    "    def print_a(self):\n",
    "        print(\"A class\")\n",
    "        \n",
    "class B:\n",
    "    b = 1\n",
    "    def print_b(self):\n",
    "        print(\"B class\")\n",
    "\n",
    "class C(A):\n",
    "    c = 1\n",
    "    def print_c(self):\n",
    "        print(\"C class\")\n",
    "\n",
    "class D(C, B):\n",
    "    # C의 data attribute c, a 와 B의 data attribute b 를 가짐 => a,b,c 모두 가지게 됨    \n",
    "    d = 1\n",
    "    def print_d(self):\n",
    "        print(\"D class\")\n",
    "        \n",
    "D.mro()\n",
    "# 같은 이름을 상속받으면, mro를 통해서 우선순위를 확인하기"
   ]
  },
  {
   "cell_type": "markdown",
   "id": "d4a8e196",
   "metadata": {},
   "source": [
    "### 메서드 오버라이딩"
   ]
  },
  {
   "cell_type": "code",
   "execution_count": 38,
   "id": "8bf2aad7",
   "metadata": {},
   "outputs": [],
   "source": [
    "class A():\n",
    "    def __init__(self):\n",
    "        print(\"this is [A] class and [__init__] function\")\n",
    "        self.var1 = 0 \n",
    "        self.var2 = 0\n",
    "    \n",
    "class B(A):\n",
    "    def __init__(self):\n",
    "        super().__init__()\n",
    "        print(\"this is [B] class and [__init__] function\")\n",
    "        self.var3 = 0 \n",
    "        self.var4 = 0"
   ]
  },
  {
   "cell_type": "code",
   "execution_count": 39,
   "id": "7a91c2f6",
   "metadata": {},
   "outputs": [
    {
     "name": "stdout",
     "output_type": "stream",
     "text": [
      "this is [A] class and [__init__] function\n"
     ]
    }
   ],
   "source": [
    "a = A()"
   ]
  },
  {
   "cell_type": "code",
   "execution_count": 40,
   "id": "27e464fd",
   "metadata": {},
   "outputs": [
    {
     "name": "stdout",
     "output_type": "stream",
     "text": [
      "this is [A] class and [__init__] function\n",
      "this is [B] class and [__init__] function\n"
     ]
    }
   ],
   "source": [
    "b = B()"
   ]
  },
  {
   "cell_type": "markdown",
   "id": "d1a5aa72",
   "metadata": {},
   "source": [
    "### 실습 문제 2 \n"
   ]
  },
  {
   "cell_type": "code",
   "execution_count": 41,
   "id": "f1a764ff",
   "metadata": {},
   "outputs": [],
   "source": [
    "class BankAccount :\n",
    "    def __init__(self, balance = 0, name=\"none\"):\n",
    "        self.balance = balance\n",
    "        self.name = name\n",
    "    \n",
    "    def deposit(self, amount):\n",
    "        self.balance += amount\n",
    "    \n",
    "    def withdraw(self, amount):\n",
    "        if(self.balance >= amount):\n",
    "            self.balance -= amount\n",
    "        else:\n",
    "            print(\"잔액 부족\")\n",
    "    \n",
    "    def get_info(self):\n",
    "        \n",
    "        print(\"이름 : \",self.name)\n",
    "        print(\"잔고 : \", self.balance)\n",
    "\n",
    "class MinimumBalanceAccount(BankAccount):\n",
    "    def __init__(self, balance = 0, name = \"none\", min_bal = 0):\n",
    "        super().__init__(balance,name) # 부모 클래스의 init 함수를 그대로 가져와 사용\n",
    "        self.min_bal = min_bal  # 바꾸고 싶은 부분만 새롭게 정의\n",
    "        \n",
    "    def withdraw(self, amount, min_bal = 0):    \n",
    "        if(self.balance - amount < self.min_bal ):\n",
    "            print(\"최소 잔액을 유지해야 합니다.\")\n",
    "        else:\n",
    "            super().withdraw(amount)  # 부모 클래스의 withdraw 함수 그대로 사용"
   ]
  },
  {
   "cell_type": "code",
   "execution_count": 42,
   "id": "857e8b99",
   "metadata": {},
   "outputs": [
    {
     "name": "stdout",
     "output_type": "stream",
     "text": [
      "이름 :  kim\n",
      "잔고 :  500\n"
     ]
    }
   ],
   "source": [
    "acc = MinimumBalanceAccount(500,\"kim\", 1000)\n",
    "acc.get_info()"
   ]
  },
  {
   "cell_type": "code",
   "execution_count": 43,
   "id": "99579ab2",
   "metadata": {},
   "outputs": [
    {
     "name": "stdout",
     "output_type": "stream",
     "text": [
      "이름 :  kim\n",
      "잔고 :  1500\n"
     ]
    }
   ],
   "source": [
    "acc.deposit(1000)\n",
    "acc.get_info()"
   ]
  },
  {
   "cell_type": "code",
   "execution_count": 44,
   "id": "8fb720be",
   "metadata": {},
   "outputs": [
    {
     "name": "stdout",
     "output_type": "stream",
     "text": [
      "이름 :  kim\n",
      "잔고 :  1000\n"
     ]
    }
   ],
   "source": [
    "acc.withdraw(500)\n",
    "acc.get_info()"
   ]
  },
  {
   "cell_type": "markdown",
   "id": "0a9f3548",
   "metadata": {},
   "source": [
    "### 연산자 오버로딩"
   ]
  },
  {
   "cell_type": "code",
   "execution_count": 45,
   "id": "5898884b",
   "metadata": {},
   "outputs": [],
   "source": [
    "class BankAccount:\n",
    "    def __init__(self, balance=0 , name='none'):\n",
    "        self.balance = balance\n",
    "        self.name = name\n",
    "    \n",
    "    def deposit(self, amount):\n",
    "        self.balance += amount\n",
    "        \n",
    "    def __add__(self,amount):\n",
    "        self.deposit(amount)\n",
    "        \n",
    "#     def __iadd__(self, amount):\n",
    "#         self.deposit(amount)\n",
    "        \n",
    "        return self"
   ]
  },
  {
   "cell_type": "code",
   "execution_count": 46,
   "id": "c8886299",
   "metadata": {},
   "outputs": [
    {
     "name": "stdout",
     "output_type": "stream",
     "text": [
      "2000\n"
     ]
    }
   ],
   "source": [
    "acc = BankAccount(2000, \"kim\")\n",
    "print(acc.balance)"
   ]
  },
  {
   "cell_type": "code",
   "execution_count": 47,
   "id": "3142c891",
   "metadata": {},
   "outputs": [
    {
     "name": "stdout",
     "output_type": "stream",
     "text": [
      "3000\n"
     ]
    }
   ],
   "source": [
    "acc + 1000\n",
    "print(acc.balance)"
   ]
  },
  {
   "cell_type": "code",
   "execution_count": 48,
   "id": "e561b51d",
   "metadata": {},
   "outputs": [],
   "source": [
    "# __add__ 함수가 없는 경우\n",
    "\n",
    "class NumBox:  \n",
    "    def __init__(self, num):\n",
    "        self.Num = num"
   ]
  },
  {
   "cell_type": "code",
   "execution_count": 49,
   "id": "6f274057",
   "metadata": {},
   "outputs": [
    {
     "ename": "TypeError",
     "evalue": "unsupported operand type(s) for +: 'NumBox' and 'int'",
     "output_type": "error",
     "traceback": [
      "\u001b[0;31m---------------------------------------------------------------------------\u001b[0m",
      "\u001b[0;31mTypeError\u001b[0m                                 Traceback (most recent call last)",
      "Cell \u001b[0;32mIn[49], line 6\u001b[0m\n\u001b[1;32m      2\u001b[0m n \u001b[38;5;241m=\u001b[39m NumBox(\u001b[38;5;241m40\u001b[39m)\n\u001b[1;32m      4\u001b[0m \u001b[38;5;66;03m# print(n)\u001b[39;00m\n\u001b[0;32m----> 6\u001b[0m \u001b[43mn\u001b[49m\u001b[43m \u001b[49m\u001b[38;5;241;43m+\u001b[39;49m\u001b[43m \u001b[49m\u001b[38;5;241;43m100\u001b[39;49m\n",
      "\u001b[0;31mTypeError\u001b[0m: unsupported operand type(s) for +: 'NumBox' and 'int'"
     ]
    }
   ],
   "source": [
    "# n + 100의 연산이 안됨\n",
    "n = NumBox(40)\n",
    "\n",
    "# print(n)\n",
    "\n",
    "n + 100"
   ]
  },
  {
   "cell_type": "code",
   "execution_count": null,
   "id": "b3ff28a0",
   "metadata": {},
   "outputs": [],
   "source": [
    "# __add__ 함수가 있는 경우\n",
    "\n",
    "class NumBox:\n",
    "    def __init__(self, num):\n",
    "        self.Num = num\n",
    "    def __add__(self, num):\n",
    "        self.Num += 5000\n",
    "        "
   ]
  },
  {
   "cell_type": "code",
   "execution_count": 50,
   "id": "e72d99a5",
   "metadata": {},
   "outputs": [],
   "source": [
    "n = NumBox(40)"
   ]
  },
  {
   "cell_type": "code",
   "execution_count": 51,
   "id": "75b8c973",
   "metadata": {},
   "outputs": [
    {
     "ename": "TypeError",
     "evalue": "unsupported operand type(s) for +: 'NumBox' and 'int'",
     "output_type": "error",
     "traceback": [
      "\u001b[0;31m---------------------------------------------------------------------------\u001b[0m",
      "\u001b[0;31mTypeError\u001b[0m                                 Traceback (most recent call last)",
      "Cell \u001b[0;32mIn[51], line 1\u001b[0m\n\u001b[0;32m----> 1\u001b[0m \u001b[43mn\u001b[49m\u001b[43m \u001b[49m\u001b[38;5;241;43m+\u001b[39;49m\u001b[43m \u001b[49m\u001b[38;5;241;43m100\u001b[39;49m\n",
      "\u001b[0;31mTypeError\u001b[0m: unsupported operand type(s) for +: 'NumBox' and 'int'"
     ]
    }
   ],
   "source": [
    "n + 100  # a + b 연산을 할때 자동으로 __add__ 함수가 호출이 됨"
   ]
  },
  {
   "cell_type": "code",
   "execution_count": 52,
   "id": "870204d6",
   "metadata": {},
   "outputs": [
    {
     "data": {
      "text/plain": [
       "40"
      ]
     },
     "execution_count": 52,
     "metadata": {},
     "output_type": "execute_result"
    }
   ],
   "source": [
    "n.Num"
   ]
  },
  {
   "cell_type": "markdown",
   "id": "71e0f270",
   "metadata": {},
   "source": [
    "### 과제 1"
   ]
  },
  {
   "cell_type": "code",
   "execution_count": 56,
   "id": "18cdc31d",
   "metadata": {},
   "outputs": [],
   "source": [
    "class Set:\n",
    "\n",
    "    def __init__(self, input_set = []):\n",
    "        #self.input_set = input_set\n",
    "        new_list = []  # 새로운 list를 하나 생성\n",
    "        for i in input_set:   # 인자로 받아온 list를 처음부터 끝까지 돌림\n",
    "            if i not in new_list : #list안의 값이 없다면\n",
    "                new_list.append(i)   # new_list 안에 넣어주기\n",
    "        \n",
    "        self.input_set = new_list\n",
    "        #print(self.input_set)\n",
    "            \n",
    "    def add(self, elem):\n",
    "        for i in self.input_set:\n",
    "            if elem == i :\n",
    "                pass\n",
    "            else :\n",
    "                self.input_set.append(elem)\n",
    "    \n",
    "    def discard(self, elem):\n",
    "        for i in self.input_set :\n",
    "            if elem == i :\n",
    "                self.input_set.remove(elem)\n",
    "    \n",
    "    def clear(self):\n",
    "        self.input_set.clear()\n",
    "    \n",
    "    def __len__(self):\n",
    "        return len(self.input_set)\n",
    "        \n",
    "    def __str__(self):\n",
    "        result = ', '.join(str(s) for s in self.input_set)\n",
    "        result2 = \"{\" + result + \"}\"    \n",
    "        return result2\n",
    "    \n",
    "    def __contains__(self, elem):\n",
    "        for i in self.input_set:\n",
    "            if elem == i :\n",
    "                return True\n",
    "            else :\n",
    "                return False\n",
    "\n",
    "    def __le__(self, other):  # a <= b\n",
    "        for i in self.input_set :\n",
    "            if i not in other.input_set : \n",
    "                T_or_F = False\n",
    "                return T_or_F\n",
    "        T_or_F = True\n",
    "        return T_or_F\n",
    "    \n",
    "    def __ge__(self, other): # a >= b\n",
    "        for i in other.input_set :\n",
    "            if i not in self.input_set :\n",
    "                T_or_F = False\n",
    "            else :\n",
    "                T_or_F = True                \n",
    "        return T_or_F\n",
    "        \n",
    "    def __or__(self, other):  # a | b\n",
    "        Hap_ziphap = self.input_set + other.input_set\n",
    "        \n",
    "        for i in self.input_set :\n",
    "            if i in other.input_set :\n",
    "                Hap_ziphap.remove(i)\n",
    "        \n",
    "        return Set(Hap_ziphap)\n",
    "    \n",
    "    def __and__(self, other): # a & b\n",
    "        \n",
    "        Kyo_ziphap = []\n",
    "        \n",
    "        for i in self.input_set :\n",
    "            if i in other.input_set :\n",
    "                Kyo_ziphap.append(i)\n",
    "        \n",
    "        return Set(Kyo_ziphap)\n",
    "    \n",
    "    def __sub__(self, other): # a – b \n",
    "        \n",
    "        Cha_ziphap = []\n",
    "        \n",
    "        for i in self.input_set :\n",
    "            if i not in other.input_set :\n",
    "                Cha_ziphap.append(i)\n",
    "                \n",
    "        return Set(Cha_ziphap)\n",
    "\n",
    "    def __ior__(self, other): # a |= b \n",
    "        self.input_set |= other\n",
    "    \n",
    "    def __iand__(self, other): # a &= b\n",
    "        self.input_set &= other\n",
    "    \n",
    "    def __isub__(self, other): # a –= b \n",
    "        self.input_set -= other"
   ]
  },
  {
   "cell_type": "code",
   "execution_count": 57,
   "id": "a9db93a1",
   "metadata": {},
   "outputs": [
    {
     "name": "stdout",
     "output_type": "stream",
     "text": [
      "{1, 2, 3, 4}\n",
      "{1, 2, 3, 4}\n",
      "\n",
      "{1, 2, 3}\n",
      "{2, 3, 4}\n",
      "\n",
      "3\n",
      "True\n",
      "False\n",
      "\n",
      "{1, 2, 3, 4}\n",
      "{2, 3}\n",
      "{1}\n",
      "\n",
      "False\n",
      "True\n",
      "False\n",
      "True\n",
      "\n",
      "{}\n",
      "\n",
      "{1, 2, 3, 4}\n",
      "True\n",
      "\n",
      "{3}\n",
      "True\n",
      "\n",
      "{1, 2}\n",
      "True\n",
      "\n"
     ]
    }
   ],
   "source": [
    "a = Set([1, 2, 3, 4])\n",
    "b = Set([1, 2, 3, 4])\n",
    "\n",
    "print(a)\n",
    "print(b)\n",
    "print()\n",
    "\n",
    "a.discard(4)\n",
    "b.discard(1)\n",
    "\n",
    "print(a)\n",
    "print(b)\n",
    "print()\n",
    "\n",
    "print(len(a))\n",
    "print(1 in a)\n",
    "print(1 in b)\n",
    "print()\n",
    "\n",
    "print(a | b)\n",
    "print(a & b)\n",
    "print(a - b)\n",
    "print()\n",
    "\n",
    "print(a <= b)\n",
    "print(a <= a | b)\n",
    "print(a >= b)\n",
    "print(a >= a & b)\n",
    "print()\n",
    "\n",
    "b.clear()\n",
    "print(b)\n",
    "print()\n",
    "\n",
    "a = set([1,2,3])\n",
    "b = set([3,4])\n",
    "address_a = id(a)\n",
    "a |= b\n",
    "print(a)\n",
    "print(address_a == id(a))\n",
    "print()\n",
    "\n",
    "a = set([1,2,3])\n",
    "b = set([3,4])\n",
    "address_a = id(a)\n",
    "a &= b\n",
    "print(a)\n",
    "print(address_a == id(a))\n",
    "print()\n",
    "\n",
    "a = set([1,2,3])\n",
    "b = set([3,4])\n",
    "address_a = id(a)\n",
    "a -= b\n",
    "print(a)\n",
    "print(address_a == id(a))\n",
    "print()"
   ]
  },
  {
   "cell_type": "code",
   "execution_count": null,
   "id": "015af8eb",
   "metadata": {},
   "outputs": [],
   "source": []
  }
 ],
 "metadata": {
  "kernelspec": {
   "display_name": "Python 3 (ipykernel)",
   "language": "python",
   "name": "python3"
  },
  "language_info": {
   "codemirror_mode": {
    "name": "ipython",
    "version": 3
   },
   "file_extension": ".py",
   "mimetype": "text/x-python",
   "name": "python",
   "nbconvert_exporter": "python",
   "pygments_lexer": "ipython3",
   "version": "3.10.9"
  }
 },
 "nbformat": 4,
 "nbformat_minor": 5
}
